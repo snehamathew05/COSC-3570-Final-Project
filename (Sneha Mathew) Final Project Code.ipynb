{
 "cells": [
  {
   "cell_type": "code",
   "execution_count": 1,
   "id": "25686766",
   "metadata": {},
   "outputs": [],
   "source": [
    "%matplotlib inline\n",
    "import matplotlib.pyplot as plt\n",
    "import numpy as np\n",
    "import pandas as pd\n",
    "from sklearn.model_selection import train_test_split\n",
    "from sklearn.utils import resample\n",
    "from sklearn.utils import shuffle\n",
    "from sklearn.linear_model import LogisticRegression\n",
    "#from sklearn.naive_bayes import GaussianNB\n",
    "from sklearn.metrics import roc_auc_score\n",
    "from sklearn.metrics import confusion_matrix\n",
    "import seaborn as sns"
   ]
  },
  {
   "cell_type": "code",
   "execution_count": 2,
   "id": "ede93de5",
   "metadata": {
    "scrolled": false
   },
   "outputs": [
    {
     "data": {
      "text/html": [
       "<div>\n",
       "<style scoped>\n",
       "    .dataframe tbody tr th:only-of-type {\n",
       "        vertical-align: middle;\n",
       "    }\n",
       "\n",
       "    .dataframe tbody tr th {\n",
       "        vertical-align: top;\n",
       "    }\n",
       "\n",
       "    .dataframe thead th {\n",
       "        text-align: right;\n",
       "    }\n",
       "</style>\n",
       "<table border=\"1\" class=\"dataframe\">\n",
       "  <thead>\n",
       "    <tr style=\"text-align: right;\">\n",
       "      <th></th>\n",
       "      <th>ID</th>\n",
       "      <th>Q1a Quality of police services</th>\n",
       "      <th>Q1b Quality of fire and emergency</th>\n",
       "      <th>Q1c County's emergency preparedness</th>\n",
       "      <th>Q1d County parks/recreation programs</th>\n",
       "      <th>Q1e County arts/cultural programs</th>\n",
       "      <th>Q1f Maintenance of County streets</th>\n",
       "      <th>Q1g Traffic flow on County streets</th>\n",
       "      <th>Q1h County water and wastewater services</th>\n",
       "      <th>Q1i County's stormwater runoff system</th>\n",
       "      <th>...</th>\n",
       "      <th>Q32 Persons in Household Under age 10</th>\n",
       "      <th>Q32 Persons in Household Ages 11-19</th>\n",
       "      <th>Q32 Persons in Household Ages 20-44</th>\n",
       "      <th>Q32 Persons in Household Ages 45-64</th>\n",
       "      <th>Q32 Persons in Household Ages 65+</th>\n",
       "      <th>Q33 Your total household income is</th>\n",
       "      <th>Q34 Your gender</th>\n",
       "      <th>Q35 Sexual orientation</th>\n",
       "      <th>BLOCK_LAT</th>\n",
       "      <th>BLOCK_LON</th>\n",
       "    </tr>\n",
       "  </thead>\n",
       "  <tbody>\n",
       "    <tr>\n",
       "      <th>0</th>\n",
       "      <td>325</td>\n",
       "      <td>9 - Don't Know</td>\n",
       "      <td>9 - Don't Know</td>\n",
       "      <td>9 - Don't Know</td>\n",
       "      <td>5 - Very Satisfied</td>\n",
       "      <td>5 - Very Satisfied</td>\n",
       "      <td>5 - Very Satisfied</td>\n",
       "      <td>3 - Neutral</td>\n",
       "      <td>4 - Satisfied</td>\n",
       "      <td>3 - Neutral</td>\n",
       "      <td>...</td>\n",
       "      <td>0</td>\n",
       "      <td>0</td>\n",
       "      <td>1</td>\n",
       "      <td>1</td>\n",
       "      <td>1</td>\n",
       "      <td>4 - $100,000+</td>\n",
       "      <td>2 - Female</td>\n",
       "      <td>1 - Heterosexual</td>\n",
       "      <td>38.855</td>\n",
       "      <td>-77.061</td>\n",
       "    </tr>\n",
       "    <tr>\n",
       "      <th>1</th>\n",
       "      <td>74</td>\n",
       "      <td>3 - Neutral</td>\n",
       "      <td>4 - Satisfied</td>\n",
       "      <td>3 - Neutral</td>\n",
       "      <td>5 - Very Satisfied</td>\n",
       "      <td>3 - Neutral</td>\n",
       "      <td>2 - Dissatisfied</td>\n",
       "      <td>3 - Neutral</td>\n",
       "      <td>5 - Very Satisfied</td>\n",
       "      <td>4 - Satisfied</td>\n",
       "      <td>...</td>\n",
       "      <td>0</td>\n",
       "      <td>0</td>\n",
       "      <td>1</td>\n",
       "      <td>2</td>\n",
       "      <td>0</td>\n",
       "      <td>4 - $100,000+</td>\n",
       "      <td>1 - Male</td>\n",
       "      <td>1 - Heterosexual</td>\n",
       "      <td>38.919</td>\n",
       "      <td>-77.133</td>\n",
       "    </tr>\n",
       "    <tr>\n",
       "      <th>2</th>\n",
       "      <td>343</td>\n",
       "      <td>3 - Neutral</td>\n",
       "      <td>4 - Satisfied</td>\n",
       "      <td>3 - Neutral</td>\n",
       "      <td>3 - Neutral</td>\n",
       "      <td>3 - Neutral</td>\n",
       "      <td>3 - Neutral</td>\n",
       "      <td>3 - Neutral</td>\n",
       "      <td>2 - Dissatisfied</td>\n",
       "      <td>3 - Neutral</td>\n",
       "      <td>...</td>\n",
       "      <td></td>\n",
       "      <td></td>\n",
       "      <td></td>\n",
       "      <td></td>\n",
       "      <td></td>\n",
       "      <td>1 - Under $35,000</td>\n",
       "      <td>1 - Male</td>\n",
       "      <td>1 - Heterosexual</td>\n",
       "      <td>38.862</td>\n",
       "      <td>-77.095</td>\n",
       "    </tr>\n",
       "    <tr>\n",
       "      <th>3</th>\n",
       "      <td>276</td>\n",
       "      <td>3 - Neutral</td>\n",
       "      <td>5 - Very Satisfied</td>\n",
       "      <td>3 - Neutral</td>\n",
       "      <td>4 - Satisfied</td>\n",
       "      <td>4 - Satisfied</td>\n",
       "      <td>4 - Satisfied</td>\n",
       "      <td>3 - Neutral</td>\n",
       "      <td>3 - Neutral</td>\n",
       "      <td>2 - Dissatisfied</td>\n",
       "      <td>...</td>\n",
       "      <td>0</td>\n",
       "      <td>0</td>\n",
       "      <td>1</td>\n",
       "      <td>1</td>\n",
       "      <td>0</td>\n",
       "      <td>3 - $60,000-$99,999</td>\n",
       "      <td>1 - Male</td>\n",
       "      <td>1 - Heterosexual</td>\n",
       "      <td>38.896</td>\n",
       "      <td>-77.149</td>\n",
       "    </tr>\n",
       "    <tr>\n",
       "      <th>4</th>\n",
       "      <td>6</td>\n",
       "      <td>9 - Don't Know</td>\n",
       "      <td>9 - Don't Know</td>\n",
       "      <td>9 - Don't Know</td>\n",
       "      <td>9 - Don't Know</td>\n",
       "      <td>9 - Don't Know</td>\n",
       "      <td>1 - Very Dissatisfied</td>\n",
       "      <td>1 - Very Dissatisfied</td>\n",
       "      <td>9 - Don't Know</td>\n",
       "      <td>9 - Don't Know</td>\n",
       "      <td>...</td>\n",
       "      <td>0</td>\n",
       "      <td>0</td>\n",
       "      <td>0</td>\n",
       "      <td>0</td>\n",
       "      <td>1</td>\n",
       "      <td>1 - Under $35,000</td>\n",
       "      <td>2 - Female</td>\n",
       "      <td>1 - Heterosexual</td>\n",
       "      <td>38.852</td>\n",
       "      <td>-77.119</td>\n",
       "    </tr>\n",
       "    <tr>\n",
       "      <th>...</th>\n",
       "      <td>...</td>\n",
       "      <td>...</td>\n",
       "      <td>...</td>\n",
       "      <td>...</td>\n",
       "      <td>...</td>\n",
       "      <td>...</td>\n",
       "      <td>...</td>\n",
       "      <td>...</td>\n",
       "      <td>...</td>\n",
       "      <td>...</td>\n",
       "      <td>...</td>\n",
       "      <td>...</td>\n",
       "      <td>...</td>\n",
       "      <td>...</td>\n",
       "      <td>...</td>\n",
       "      <td>...</td>\n",
       "      <td>...</td>\n",
       "      <td>...</td>\n",
       "      <td>...</td>\n",
       "      <td>...</td>\n",
       "      <td>...</td>\n",
       "    </tr>\n",
       "    <tr>\n",
       "      <th>1301</th>\n",
       "      <td>1304</td>\n",
       "      <td>4 - Satisfied</td>\n",
       "      <td>5 - Very Satisfied</td>\n",
       "      <td>4 - Satisfied</td>\n",
       "      <td>4 - Satisfied</td>\n",
       "      <td>4 - Satisfied</td>\n",
       "      <td>4 - Satisfied</td>\n",
       "      <td>4 - Satisfied</td>\n",
       "      <td>4 - Satisfied</td>\n",
       "      <td>4 - Satisfied</td>\n",
       "      <td>...</td>\n",
       "      <td>0</td>\n",
       "      <td>0</td>\n",
       "      <td>0</td>\n",
       "      <td>1</td>\n",
       "      <td>1</td>\n",
       "      <td>2 - $35,000-$59,999</td>\n",
       "      <td>2 - Female</td>\n",
       "      <td>1 - Heterosexual</td>\n",
       "      <td>38.884</td>\n",
       "      <td>-77.121</td>\n",
       "    </tr>\n",
       "    <tr>\n",
       "      <th>1302</th>\n",
       "      <td>753</td>\n",
       "      <td>4 - Satisfied</td>\n",
       "      <td>5 - Very Satisfied</td>\n",
       "      <td>4 - Satisfied</td>\n",
       "      <td>4 - Satisfied</td>\n",
       "      <td>4 - Satisfied</td>\n",
       "      <td>3 - Neutral</td>\n",
       "      <td>4 - Satisfied</td>\n",
       "      <td>3 - Neutral</td>\n",
       "      <td>3 - Neutral</td>\n",
       "      <td>...</td>\n",
       "      <td>0</td>\n",
       "      <td>0</td>\n",
       "      <td>0</td>\n",
       "      <td>0</td>\n",
       "      <td>1</td>\n",
       "      <td>2 - $35,000-$59,999</td>\n",
       "      <td>2 - Female</td>\n",
       "      <td>1 - Heterosexual</td>\n",
       "      <td>38.906</td>\n",
       "      <td>-77.125</td>\n",
       "    </tr>\n",
       "    <tr>\n",
       "      <th>1303</th>\n",
       "      <td>1072</td>\n",
       "      <td>5 - Very Satisfied</td>\n",
       "      <td>4 - Satisfied</td>\n",
       "      <td>9 - Don't Know</td>\n",
       "      <td>4 - Satisfied</td>\n",
       "      <td>3 - Neutral</td>\n",
       "      <td>3 - Neutral</td>\n",
       "      <td>4 - Satisfied</td>\n",
       "      <td>2 - Dissatisfied</td>\n",
       "      <td>4 - Satisfied</td>\n",
       "      <td>...</td>\n",
       "      <td>1</td>\n",
       "      <td>2</td>\n",
       "      <td>1</td>\n",
       "      <td>2</td>\n",
       "      <td>2</td>\n",
       "      <td>3 - $60,000-$99,999</td>\n",
       "      <td>2 - Female</td>\n",
       "      <td>1 - Heterosexual</td>\n",
       "      <td>38.901</td>\n",
       "      <td>-77.087</td>\n",
       "    </tr>\n",
       "    <tr>\n",
       "      <th>1304</th>\n",
       "      <td>167</td>\n",
       "      <td>5 - Very Satisfied</td>\n",
       "      <td>5 - Very Satisfied</td>\n",
       "      <td>9 - Don't Know</td>\n",
       "      <td>5 - Very Satisfied</td>\n",
       "      <td>4 - Satisfied</td>\n",
       "      <td>2 - Dissatisfied</td>\n",
       "      <td>2 - Dissatisfied</td>\n",
       "      <td>3 - Neutral</td>\n",
       "      <td>9 - Don't Know</td>\n",
       "      <td>...</td>\n",
       "      <td></td>\n",
       "      <td></td>\n",
       "      <td></td>\n",
       "      <td></td>\n",
       "      <td></td>\n",
       "      <td>9 - Didn't Answer</td>\n",
       "      <td>1 - Male</td>\n",
       "      <td>9 - Didn't Answer</td>\n",
       "      <td>38.879</td>\n",
       "      <td>-77.141</td>\n",
       "    </tr>\n",
       "    <tr>\n",
       "      <th>1305</th>\n",
       "      <td>48</td>\n",
       "      <td>5 - Very Satisfied</td>\n",
       "      <td>5 - Very Satisfied</td>\n",
       "      <td>9 - Don't Know</td>\n",
       "      <td>4 - Satisfied</td>\n",
       "      <td>4 - Satisfied</td>\n",
       "      <td>3 - Neutral</td>\n",
       "      <td>4 - Satisfied</td>\n",
       "      <td>4 - Satisfied</td>\n",
       "      <td>5 - Very Satisfied</td>\n",
       "      <td>...</td>\n",
       "      <td></td>\n",
       "      <td></td>\n",
       "      <td></td>\n",
       "      <td></td>\n",
       "      <td></td>\n",
       "      <td>9 - Didn't Answer</td>\n",
       "      <td>1 - Male</td>\n",
       "      <td>9 - Didn't Answer</td>\n",
       "      <td>38.887</td>\n",
       "      <td>-77.082</td>\n",
       "    </tr>\n",
       "  </tbody>\n",
       "</table>\n",
       "<p>1306 rows × 233 columns</p>\n",
       "</div>"
      ],
      "text/plain": [
       "        ID Q1a Quality of police services Q1b Quality of fire and emergency  \\\n",
       "0      325                 9 - Don't Know                    9 - Don't Know   \n",
       "1       74                    3 - Neutral                     4 - Satisfied   \n",
       "2      343                    3 - Neutral                     4 - Satisfied   \n",
       "3      276                    3 - Neutral                5 - Very Satisfied   \n",
       "4        6                 9 - Don't Know                    9 - Don't Know   \n",
       "...    ...                            ...                               ...   \n",
       "1301  1304                  4 - Satisfied                5 - Very Satisfied   \n",
       "1302   753                  4 - Satisfied                5 - Very Satisfied   \n",
       "1303  1072             5 - Very Satisfied                     4 - Satisfied   \n",
       "1304   167             5 - Very Satisfied                5 - Very Satisfied   \n",
       "1305    48             5 - Very Satisfied                5 - Very Satisfied   \n",
       "\n",
       "     Q1c County's emergency preparedness Q1d County parks/recreation programs  \\\n",
       "0                         9 - Don't Know                   5 - Very Satisfied   \n",
       "1                            3 - Neutral                   5 - Very Satisfied   \n",
       "2                            3 - Neutral                          3 - Neutral   \n",
       "3                            3 - Neutral                        4 - Satisfied   \n",
       "4                         9 - Don't Know                       9 - Don't Know   \n",
       "...                                  ...                                  ...   \n",
       "1301                       4 - Satisfied                        4 - Satisfied   \n",
       "1302                       4 - Satisfied                        4 - Satisfied   \n",
       "1303                      9 - Don't Know                        4 - Satisfied   \n",
       "1304                      9 - Don't Know                   5 - Very Satisfied   \n",
       "1305                      9 - Don't Know                        4 - Satisfied   \n",
       "\n",
       "     Q1e County arts/cultural programs Q1f Maintenance of County streets  \\\n",
       "0                   5 - Very Satisfied                5 - Very Satisfied   \n",
       "1                          3 - Neutral                  2 - Dissatisfied   \n",
       "2                          3 - Neutral                       3 - Neutral   \n",
       "3                        4 - Satisfied                     4 - Satisfied   \n",
       "4                       9 - Don't Know             1 - Very Dissatisfied   \n",
       "...                                ...                               ...   \n",
       "1301                     4 - Satisfied                     4 - Satisfied   \n",
       "1302                     4 - Satisfied                       3 - Neutral   \n",
       "1303                       3 - Neutral                       3 - Neutral   \n",
       "1304                     4 - Satisfied                  2 - Dissatisfied   \n",
       "1305                     4 - Satisfied                       3 - Neutral   \n",
       "\n",
       "     Q1g Traffic flow on County streets  \\\n",
       "0                           3 - Neutral   \n",
       "1                           3 - Neutral   \n",
       "2                           3 - Neutral   \n",
       "3                           3 - Neutral   \n",
       "4                 1 - Very Dissatisfied   \n",
       "...                                 ...   \n",
       "1301                      4 - Satisfied   \n",
       "1302                      4 - Satisfied   \n",
       "1303                      4 - Satisfied   \n",
       "1304                   2 - Dissatisfied   \n",
       "1305                      4 - Satisfied   \n",
       "\n",
       "     Q1h County water and wastewater services  \\\n",
       "0                               4 - Satisfied   \n",
       "1                          5 - Very Satisfied   \n",
       "2                            2 - Dissatisfied   \n",
       "3                                 3 - Neutral   \n",
       "4                              9 - Don't Know   \n",
       "...                                       ...   \n",
       "1301                            4 - Satisfied   \n",
       "1302                              3 - Neutral   \n",
       "1303                         2 - Dissatisfied   \n",
       "1304                              3 - Neutral   \n",
       "1305                            4 - Satisfied   \n",
       "\n",
       "     Q1i County's stormwater runoff system  ...  \\\n",
       "0                              3 - Neutral  ...   \n",
       "1                            4 - Satisfied  ...   \n",
       "2                              3 - Neutral  ...   \n",
       "3                         2 - Dissatisfied  ...   \n",
       "4                           9 - Don't Know  ...   \n",
       "...                                    ...  ...   \n",
       "1301                         4 - Satisfied  ...   \n",
       "1302                           3 - Neutral  ...   \n",
       "1303                         4 - Satisfied  ...   \n",
       "1304                        9 - Don't Know  ...   \n",
       "1305                    5 - Very Satisfied  ...   \n",
       "\n",
       "     Q32 Persons in Household Under age 10  \\\n",
       "0                                        0   \n",
       "1                                        0   \n",
       "2                                            \n",
       "3                                        0   \n",
       "4                                        0   \n",
       "...                                    ...   \n",
       "1301                                     0   \n",
       "1302                                     0   \n",
       "1303                                     1   \n",
       "1304                                         \n",
       "1305                                         \n",
       "\n",
       "     Q32 Persons in Household Ages 11-19 Q32 Persons in Household Ages 20-44  \\\n",
       "0                                      0                                   1   \n",
       "1                                      0                                   1   \n",
       "2                                                                              \n",
       "3                                      0                                   1   \n",
       "4                                      0                                   0   \n",
       "...                                  ...                                 ...   \n",
       "1301                                   0                                   0   \n",
       "1302                                   0                                   0   \n",
       "1303                                   2                                   1   \n",
       "1304                                                                           \n",
       "1305                                                                           \n",
       "\n",
       "     Q32 Persons in Household Ages 45-64 Q32 Persons in Household Ages 65+  \\\n",
       "0                                      1                                 1   \n",
       "1                                      2                                 0   \n",
       "2                                                                            \n",
       "3                                      1                                 0   \n",
       "4                                      0                                 1   \n",
       "...                                  ...                               ...   \n",
       "1301                                   1                                 1   \n",
       "1302                                   0                                 1   \n",
       "1303                                   2                                 2   \n",
       "1304                                                                         \n",
       "1305                                                                         \n",
       "\n",
       "     Q33 Your total household income is Q34 Your gender  \\\n",
       "0                         4 - $100,000+      2 - Female   \n",
       "1                         4 - $100,000+        1 - Male   \n",
       "2                     1 - Under $35,000        1 - Male   \n",
       "3                   3 - $60,000-$99,999        1 - Male   \n",
       "4                     1 - Under $35,000      2 - Female   \n",
       "...                                 ...             ...   \n",
       "1301                2 - $35,000-$59,999      2 - Female   \n",
       "1302                2 - $35,000-$59,999      2 - Female   \n",
       "1303                3 - $60,000-$99,999      2 - Female   \n",
       "1304                  9 - Didn't Answer        1 - Male   \n",
       "1305                  9 - Didn't Answer        1 - Male   \n",
       "\n",
       "     Q35 Sexual orientation BLOCK_LAT BLOCK_LON  \n",
       "0          1 - Heterosexual    38.855   -77.061  \n",
       "1          1 - Heterosexual    38.919   -77.133  \n",
       "2          1 - Heterosexual    38.862   -77.095  \n",
       "3          1 - Heterosexual    38.896   -77.149  \n",
       "4          1 - Heterosexual    38.852   -77.119  \n",
       "...                     ...       ...       ...  \n",
       "1301       1 - Heterosexual    38.884   -77.121  \n",
       "1302       1 - Heterosexual    38.906   -77.125  \n",
       "1303       1 - Heterosexual    38.901   -77.087  \n",
       "1304      9 - Didn't Answer    38.879   -77.141  \n",
       "1305      9 - Didn't Answer    38.887   -77.082  \n",
       "\n",
       "[1306 rows x 233 columns]"
      ]
     },
     "execution_count": 2,
     "metadata": {},
     "output_type": "execute_result"
    }
   ],
   "source": [
    "pd.read_csv('2012 Constitution Satisfaction Survey Results CSV.csv')"
   ]
  },
  {
   "cell_type": "code",
   "execution_count": 3,
   "id": "d2438138",
   "metadata": {},
   "outputs": [],
   "source": [
    "survey = pd.read_csv('2012 Constitution Satisfaction Survey Results CSV.csv')"
   ]
  },
  {
   "cell_type": "code",
   "execution_count": 4,
   "id": "e0b130bd",
   "metadata": {
    "scrolled": true
   },
   "outputs": [],
   "source": [
    "survey = survey.drop(['Q1b Quality of fire and emergency'], axis = 1)"
   ]
  },
  {
   "cell_type": "code",
   "execution_count": 5,
   "id": "e0d41b81",
   "metadata": {},
   "outputs": [],
   "source": [
    "survey = survey.drop([\"Q1c County's emergency preparedness\"], axis = 1)"
   ]
  },
  {
   "cell_type": "code",
   "execution_count": 6,
   "id": "d159963a",
   "metadata": {},
   "outputs": [],
   "source": [
    "survey = survey.drop([\"Q1d County parks/recreation programs\"], axis = 1)"
   ]
  },
  {
   "cell_type": "code",
   "execution_count": 7,
   "id": "d188c76e",
   "metadata": {},
   "outputs": [],
   "source": [
    "survey = survey.drop([\"Q1e County arts/cultural programs\"], axis = 1)"
   ]
  },
  {
   "cell_type": "code",
   "execution_count": 8,
   "id": "cde7a814",
   "metadata": {},
   "outputs": [],
   "source": [
    "survey = survey.drop([\"Q1f Maintenance of County streets\"], axis = 1)"
   ]
  },
  {
   "cell_type": "code",
   "execution_count": 9,
   "id": "c7ef38ca",
   "metadata": {},
   "outputs": [],
   "source": [
    "survey = survey.drop([\"Q1g Traffic flow on County streets\"], axis = 1)"
   ]
  },
  {
   "cell_type": "code",
   "execution_count": 10,
   "id": "04ef0c59",
   "metadata": {},
   "outputs": [],
   "source": [
    "survey = survey.drop([\"Q1h County water and wastewater services\"], axis = 1)"
   ]
  },
  {
   "cell_type": "code",
   "execution_count": 11,
   "id": "7a1cd93d",
   "metadata": {},
   "outputs": [],
   "source": [
    "survey = survey.drop([\"Q1i County's stormwater runoff system\"], axis = 1)"
   ]
  },
  {
   "cell_type": "code",
   "execution_count": 12,
   "id": "de96ee6a",
   "metadata": {},
   "outputs": [],
   "source": [
    "survey = survey.drop([\"Q1j Enforcement County codes ordinance\"], axis = 1)"
   ]
  },
  {
   "cell_type": "code",
   "execution_count": 13,
   "id": "574bac8f",
   "metadata": {},
   "outputs": [],
   "source": [
    "survey = survey.drop([\"Q1k Quality of the library system\"], axis = 1)"
   ]
  },
  {
   "cell_type": "code",
   "execution_count": 14,
   "id": "bf14777f",
   "metadata": {},
   "outputs": [],
   "source": [
    "survey = survey.drop([\"Q1l Smart growth practices promoting transit-oriented development\"], axis = 1)"
   ]
  },
  {
   "cell_type": "code",
   "execution_count": 15,
   "id": "513248bc",
   "metadata": {},
   "outputs": [],
   "source": [
    "survey = survey.drop([\"Q1m Customer service from city employees\"], axis = 1)"
   ]
  },
  {
   "cell_type": "code",
   "execution_count": 16,
   "id": "bd6e7ddc",
   "metadata": {},
   "outputs": [],
   "source": [
    "survey = survey.drop([\"Q1n County communication with public\"], axis = 1)"
   ]
  },
  {
   "cell_type": "code",
   "execution_count": 17,
   "id": "58a0dcac",
   "metadata": {},
   "outputs": [],
   "source": [
    "survey = survey.drop([\"Q1o Preserve and protect the environment\"], axis = 1)"
   ]
  },
  {
   "cell_type": "code",
   "execution_count": 18,
   "id": "b06bdb67",
   "metadata": {},
   "outputs": [],
   "source": [
    "survey = survey.drop([\"Q1p County's human services\"], axis = 1)"
   ]
  },
  {
   "cell_type": "code",
   "execution_count": 19,
   "id": "d668a796",
   "metadata": {},
   "outputs": [],
   "source": [
    "survey = survey.drop([\"Q2 Most Important Service to Improve from Q1\"], axis = 1)"
   ]
  },
  {
   "cell_type": "code",
   "execution_count": 20,
   "id": "ccc5110d",
   "metadata": {},
   "outputs": [],
   "source": [
    "survey = survey.drop([\"Q2 2nd Most Important Service to Improve from Q1\"], axis = 1)"
   ]
  },
  {
   "cell_type": "code",
   "execution_count": 21,
   "id": "605fa8a3",
   "metadata": {},
   "outputs": [],
   "source": [
    "survey = survey.drop([\"Q2 3rd Most Important Service to Improve from Q1\"], axis = 1)"
   ]
  },
  {
   "cell_type": "code",
   "execution_count": 22,
   "id": "9b60e5c9",
   "metadata": {},
   "outputs": [],
   "source": [
    "survey = survey.drop([\"Q2 4th Most Important Service to Improve from Q1\"], axis = 1)"
   ]
  },
  {
   "cell_type": "code",
   "execution_count": 23,
   "id": "d2e2c03d",
   "metadata": {},
   "outputs": [],
   "source": [
    "survey = survey.drop([\"Q3a In your neighborhood during the day\"], axis = 1)"
   ]
  },
  {
   "cell_type": "code",
   "execution_count": 24,
   "id": "ce6566d8",
   "metadata": {},
   "outputs": [],
   "source": [
    "survey = survey.drop([\"Q3b In your neighborhood at night\"], axis = 1)"
   ]
  },
  {
   "cell_type": "code",
   "execution_count": 25,
   "id": "967e319b",
   "metadata": {},
   "outputs": [],
   "source": [
    "survey = survey.drop([\"Q3c In commercial/retail areas at night\"], axis = 1)"
   ]
  },
  {
   "cell_type": "code",
   "execution_count": 26,
   "id": "92000b5b",
   "metadata": {},
   "outputs": [],
   "source": [
    "survey = survey.drop([\"Q3d Overall feeling of safety in county\"], axis = 1)"
   ]
  },
  {
   "cell_type": "code",
   "execution_count": 27,
   "id": "bc1343e8",
   "metadata": {},
   "outputs": [],
   "source": [
    "survey = survey.drop([\"Q4a Quality of services provided by city\"], axis = 1)"
   ]
  },
  {
   "cell_type": "code",
   "execution_count": 28,
   "id": "f0277f84",
   "metadata": {},
   "outputs": [],
   "source": [
    "survey = survey.drop([\"Q4b Overall image of Arlington County\"], axis = 1)"
   ]
  },
  {
   "cell_type": "code",
   "execution_count": 29,
   "id": "f5883bcc",
   "metadata": {},
   "outputs": [],
   "source": [
    "survey = survey.drop([\"Q4c How well the County managing growth\"], axis = 1)"
   ]
  },
  {
   "cell_type": "code",
   "execution_count": 30,
   "id": "52407879",
   "metadata": {},
   "outputs": [],
   "source": [
    "survey = survey.drop([\"Q4d Quality of life in Arlington City\"], axis = 1)"
   ]
  },
  {
   "cell_type": "code",
   "execution_count": 31,
   "id": "c25c113f",
   "metadata": {},
   "outputs": [],
   "source": [
    "survey = survey.drop([\"Q4e Quality of public schools\"], axis = 1)"
   ]
  },
  {
   "cell_type": "code",
   "execution_count": 32,
   "id": "31b7b04a",
   "metadata": {},
   "outputs": [],
   "source": [
    "survey = survey.drop([\"Q4f Value received for tax dollars\"], axis = 1)"
   ]
  },
  {
   "cell_type": "code",
   "execution_count": 33,
   "id": "5d73acbf",
   "metadata": {},
   "outputs": [],
   "source": [
    "survey = survey.drop([\"Q4g Engage the public in decision making\"], axis = 1)"
   ]
  },
  {
   "cell_type": "code",
   "execution_count": 34,
   "id": "9dfbfada",
   "metadata": {},
   "outputs": [],
   "source": [
    "survey = survey.drop([\"Q4h Decision making process\"], axis = 1)"
   ]
  },
  {
   "cell_type": "code",
   "execution_count": 35,
   "id": "e0a85eba",
   "metadata": {},
   "outputs": [],
   "source": [
    "survey = survey.drop([\"Q4i Efforts to embrace diversity\"], axis = 1)"
   ]
  },
  {
   "cell_type": "code",
   "execution_count": 36,
   "id": "d41a8d64",
   "metadata": {},
   "outputs": [],
   "source": [
    "survey = survey.drop([\"Q4j Physical accessibility of facilities\"], axis = 1)"
   ]
  },
  {
   "cell_type": "code",
   "execution_count": 37,
   "id": "22a98878",
   "metadata": {},
   "outputs": [],
   "source": [
    "survey = survey.drop([\"Q4k Inclusiveness of the community\"], axis = 1)"
   ]
  },
  {
   "cell_type": "code",
   "execution_count": 38,
   "id": "bfff0e15",
   "metadata": {},
   "outputs": [],
   "source": [
    "survey = survey.drop([\"Q5a Maintenance of major streets\"], axis = 1)"
   ]
  },
  {
   "cell_type": "code",
   "execution_count": 39,
   "id": "52316832",
   "metadata": {},
   "outputs": [],
   "source": [
    "survey = survey.drop([\"Q5b Maintenance of street-neighborhood\"], axis = 1)"
   ]
  },
  {
   "cell_type": "code",
   "execution_count": 40,
   "id": "6f1aaa63",
   "metadata": {},
   "outputs": [],
   "source": [
    "survey = survey.drop([\"Q5c Maintenance of public sidewalks\"], axis = 1)"
   ]
  },
  {
   "cell_type": "code",
   "execution_count": 41,
   "id": "3555458b",
   "metadata": {},
   "outputs": [],
   "source": [
    "survey = survey.drop([\"Q5d Maintenance of county buildings\"], axis = 1)"
   ]
  },
  {
   "cell_type": "code",
   "execution_count": 42,
   "id": "8c468245",
   "metadata": {},
   "outputs": [],
   "source": [
    "survey = survey.drop([\"Q5e Snow removal of major county streets\"], axis = 1)"
   ]
  },
  {
   "cell_type": "code",
   "execution_count": 43,
   "id": "6fe0c4d8",
   "metadata": {},
   "outputs": [],
   "source": [
    "survey = survey.drop([\"Q5f Snow removal on neighborhood streets\"], axis = 1)"
   ]
  },
  {
   "cell_type": "code",
   "execution_count": 44,
   "id": "07974c15",
   "metadata": {},
   "outputs": [],
   "source": [
    "survey = survey.drop([\"Q5g Mowing and trimming on county land\"], axis = 1)"
   ]
  },
  {
   "cell_type": "code",
   "execution_count": 45,
   "id": "c2c9c667",
   "metadata": {},
   "outputs": [],
   "source": [
    "survey = survey.drop([\"Q5h Cleanliness of county streets\"], axis = 1)"
   ]
  },
  {
   "cell_type": "code",
   "execution_count": 46,
   "id": "f31a2585",
   "metadata": {},
   "outputs": [],
   "source": [
    "survey = survey.drop([\"Q5i Street lighting in your neighborhood\"], axis = 1)"
   ]
  },
  {
   "cell_type": "code",
   "execution_count": 47,
   "id": "297618c5",
   "metadata": {},
   "outputs": [],
   "source": [
    "survey = survey.drop([\"Q5j Street lighting in commercial areas\"], axis = 1)"
   ]
  },
  {
   "cell_type": "code",
   "execution_count": 48,
   "id": "055d5678",
   "metadata": {},
   "outputs": [],
   "source": [
    "survey = survey.drop([\"Q6 Most important Environmental Services to improve from Q5\"], axis = 1)"
   ]
  },
  {
   "cell_type": "code",
   "execution_count": 49,
   "id": "dbe43ed6",
   "metadata": {},
   "outputs": [],
   "source": [
    "survey = survey.drop([\"Q6 2nd most important Environmental Services to improve from Q5\"], axis = 1)"
   ]
  },
  {
   "cell_type": "code",
   "execution_count": 50,
   "id": "5002d53d",
   "metadata": {},
   "outputs": [],
   "source": [
    "survey = survey.drop([\"Q6 3rd most important Environmental Services to improve from Q5\"], axis = 1)"
   ]
  },
  {
   "cell_type": "code",
   "execution_count": 51,
   "id": "c6b19fc3",
   "metadata": {},
   "outputs": [],
   "source": [
    "survey = survey.drop([\"Q7a Residential trash collection\"], axis = 1)"
   ]
  },
  {
   "cell_type": "code",
   "execution_count": 52,
   "id": "d5ba9142",
   "metadata": {},
   "outputs": [],
   "source": [
    "survey = survey.drop([\"Q7b Curbside recycling services\"], axis = 1)"
   ]
  },
  {
   "cell_type": "code",
   "execution_count": 53,
   "id": "89709e0d",
   "metadata": {},
   "outputs": [],
   "source": [
    "survey = survey.drop([\"Q7c Yard waste removal services\"], axis = 1)"
   ]
  },
  {
   "cell_type": "code",
   "execution_count": 54,
   "id": "232ea814",
   "metadata": {},
   "outputs": [],
   "source": [
    "survey = survey.drop([\"Q7d Wastewater treatment services\"], axis = 1)"
   ]
  },
  {
   "cell_type": "code",
   "execution_count": 55,
   "id": "87944afa",
   "metadata": {},
   "outputs": [],
   "source": [
    "survey = survey.drop([\"Q7e Drinking water services\"], axis = 1)"
   ]
  },
  {
   "cell_type": "code",
   "execution_count": 56,
   "id": "fa2988ed",
   "metadata": {},
   "outputs": [],
   "source": [
    "survey = survey.drop([\"Q8 Most important Utility Service to improve in Q7\"], axis = 1)"
   ]
  },
  {
   "cell_type": "code",
   "execution_count": 57,
   "id": "4e5dd024",
   "metadata": {},
   "outputs": [],
   "source": [
    "survey = survey.drop([\"Q8 2nd Most important Utility Service to improve in Q7\"], axis = 1)"
   ]
  },
  {
   "cell_type": "code",
   "execution_count": 58,
   "id": "2621e936",
   "metadata": {},
   "outputs": [],
   "source": [
    "survey = survey.drop([\"Q9a Quality of local police service\"], axis = 1)"
   ]
  },
  {
   "cell_type": "code",
   "execution_count": 59,
   "id": "5ba38823",
   "metadata": {},
   "outputs": [],
   "source": [
    "survey = survey.drop([\"Q9b County's efforts to prevent crime\"], axis = 1)"
   ]
  },
  {
   "cell_type": "code",
   "execution_count": 60,
   "id": "428a3f7d",
   "metadata": {},
   "outputs": [],
   "source": [
    "survey = survey.drop([\"Q9c Enforcement of local traffic laws\"], axis = 1)"
   ]
  },
  {
   "cell_type": "code",
   "execution_count": 61,
   "id": "b946471c",
   "metadata": {},
   "outputs": [],
   "source": [
    "survey = survey.drop([\"Q9d Quality of local fire protection\"], axis = 1)"
   ]
  },
  {
   "cell_type": "code",
   "execution_count": 62,
   "id": "fadc6134",
   "metadata": {},
   "outputs": [],
   "source": [
    "survey = survey.drop([\"Q9e Emergency medical/ambulance service\"], axis = 1)"
   ]
  },
  {
   "cell_type": "code",
   "execution_count": 63,
   "id": "22994b56",
   "metadata": {},
   "outputs": [],
   "source": [
    "survey = survey.drop([\"Q9f Personnel respond to emergencies\"], axis = 1)"
   ]
  },
  {
   "cell_type": "code",
   "execution_count": 64,
   "id": "f82364ff",
   "metadata": {},
   "outputs": [],
   "source": [
    "survey = survey.drop([\"Q9g Enforcement of parking regulations\"], axis = 1)"
   ]
  },
  {
   "cell_type": "code",
   "execution_count": 65,
   "id": "ebbba3c8",
   "metadata": {},
   "outputs": [],
   "source": [
    "survey = survey.drop([\"Q10 Most important Public Safety Service to improve in Q9\"], axis = 1)"
   ]
  },
  {
   "cell_type": "code",
   "execution_count": 66,
   "id": "2e86125a",
   "metadata": {},
   "outputs": [],
   "source": [
    "survey = survey.drop([\"Q10 2nd Most important Public Safety Service to improve in Q9\"], axis = 1)"
   ]
  },
  {
   "cell_type": "code",
   "execution_count": 67,
   "id": "e323bd0e",
   "metadata": {},
   "outputs": [],
   "source": [
    "survey = survey.drop([\"Q10 3rd Most important Public Safety Service to improve in Q9\"], axis = 1)"
   ]
  },
  {
   "cell_type": "code",
   "execution_count": 68,
   "id": "7fe60851",
   "metadata": {},
   "outputs": [],
   "source": [
    "survey = survey.drop([\"Q11a Maintenance of County parks\"], axis = 1)"
   ]
  },
  {
   "cell_type": "code",
   "execution_count": 69,
   "id": "69d1e4bb",
   "metadata": {},
   "outputs": [],
   "source": [
    "survey = survey.drop([\"Q11b Walking and biking trails\"], axis = 1)"
   ]
  },
  {
   "cell_type": "code",
   "execution_count": 70,
   "id": "7c8781c1",
   "metadata": {},
   "outputs": [],
   "source": [
    "survey = survey.drop([\"Q11c Outdoor athletic fields\"], axis = 1)"
   ]
  },
  {
   "cell_type": "code",
   "execution_count": 71,
   "id": "cf0f81f0",
   "metadata": {},
   "outputs": [],
   "source": [
    "survey = survey.drop([\"Q11d Sports programs\"], axis = 1)"
   ]
  },
  {
   "cell_type": "code",
   "execution_count": 72,
   "id": "ca7401a5",
   "metadata": {},
   "outputs": [],
   "source": [
    "survey = survey.drop([\"Q11e Special events sponsored by County\"], axis = 1)"
   ]
  },
  {
   "cell_type": "code",
   "execution_count": 73,
   "id": "67f5c882",
   "metadata": {},
   "outputs": [],
   "source": [
    "survey = survey.drop([\"Q11f Off-leash dog areas\"], axis = 1)"
   ]
  },
  {
   "cell_type": "code",
   "execution_count": 74,
   "id": "c316aeb4",
   "metadata": {},
   "outputs": [],
   "source": [
    "survey = survey.drop([\"Q11g Fees charged for programs\"], axis = 1)"
   ]
  },
  {
   "cell_type": "code",
   "execution_count": 75,
   "id": "57fe57c1",
   "metadata": {},
   "outputs": [],
   "source": [
    "survey = survey.drop([\"Q11h Indoor swimming pools\"], axis = 1)"
   ]
  },
  {
   "cell_type": "code",
   "execution_count": 76,
   "id": "ec59c7f8",
   "metadata": {},
   "outputs": [],
   "source": [
    "survey = survey.drop([\"Q11i Recreation programs\"], axis = 1)"
   ]
  },
  {
   "cell_type": "code",
   "execution_count": 77,
   "id": "1a8e3b43",
   "metadata": {},
   "outputs": [],
   "source": [
    "survey = survey.drop([\"Q11j Efforts to preserve nature\"], axis = 1)"
   ]
  },
  {
   "cell_type": "code",
   "execution_count": 78,
   "id": "b2d50bcd",
   "metadata": {},
   "outputs": [],
   "source": [
    "survey = survey.drop([\"Q11k Community and nature centers\"], axis = 1)"
   ]
  },
  {
   "cell_type": "code",
   "execution_count": 79,
   "id": "b25de72b",
   "metadata": {},
   "outputs": [],
   "source": [
    "survey = survey.drop([\"Q11l Visual and performing arts\"], axis = 1)"
   ]
  },
  {
   "cell_type": "code",
   "execution_count": 80,
   "id": "54fd388f",
   "metadata": {},
   "outputs": [],
   "source": [
    "survey = survey.drop([\"Q12 Most important Parks Recreation and Arts Service to improve from Q11\"], axis = 1)"
   ]
  },
  {
   "cell_type": "code",
   "execution_count": 81,
   "id": "adbec284",
   "metadata": {},
   "outputs": [],
   "source": [
    "survey = survey.drop([\"Q12 2nd Most important Parks Recreation and Arts Service to improve from Q11\"], axis = 1)"
   ]
  },
  {
   "cell_type": "code",
   "execution_count": 82,
   "id": "9572033f",
   "metadata": {},
   "outputs": [],
   "source": [
    "survey = survey.drop([\"Q12 3rd Most important Parks Recreation and Arts Service to improve from Q11\"], axis = 1)"
   ]
  },
  {
   "cell_type": "code",
   "execution_count": 83,
   "id": "c26043d6",
   "metadata": {},
   "outputs": [],
   "source": [
    "survey = survey.drop([\"Q13 Contact the county with question\"], axis = 1)"
   ]
  },
  {
   "cell_type": "code",
   "execution_count": 84,
   "id": "6a2876ec",
   "metadata": {},
   "outputs": [],
   "source": [
    "survey = survey.drop([\"Q13a Contact County In Person Visit\"], axis = 1)"
   ]
  },
  {
   "cell_type": "code",
   "execution_count": 85,
   "id": "3a9d8c1b",
   "metadata": {},
   "outputs": [],
   "source": [
    "survey = survey.drop([\"Q13a Contact County By Phone\"], axis = 1)"
   ]
  },
  {
   "cell_type": "code",
   "execution_count": 86,
   "id": "0f739a2e",
   "metadata": {},
   "outputs": [],
   "source": [
    "survey = survey.drop([\"Q13a Contact County Fax\"], axis = 1)"
   ]
  },
  {
   "cell_type": "code",
   "execution_count": 87,
   "id": "ad2641d4",
   "metadata": {},
   "outputs": [],
   "source": [
    "survey = survey.drop([\"Q13a Contact County E-mail\"], axis = 1)"
   ]
  },
  {
   "cell_type": "code",
   "execution_count": 88,
   "id": "9970fdc0",
   "metadata": {},
   "outputs": [],
   "source": [
    "survey = survey.drop([\"Q13a Contact County Letter/mail\"], axis = 1)"
   ]
  },
  {
   "cell_type": "code",
   "execution_count": 89,
   "id": "cc1f039a",
   "metadata": {},
   "outputs": [],
   "source": [
    "survey = survey.drop([\"Q13a Contact County Facebook/Twitter\"], axis = 1)"
   ]
  },
  {
   "cell_type": "code",
   "execution_count": 90,
   "id": "4f5f9fcc",
   "metadata": {},
   "outputs": [],
   "source": [
    "survey = survey.drop([\"Q13a Contact County Other\"], axis = 1)"
   ]
  },
  {
   "cell_type": "code",
   "execution_count": 91,
   "id": "860490aa",
   "metadata": {},
   "outputs": [],
   "source": [
    "survey = survey.drop([\"Q13a Other\"], axis = 1)"
   ]
  },
  {
   "cell_type": "code",
   "execution_count": 92,
   "id": "8237f3ad",
   "metadata": {},
   "outputs": [],
   "source": [
    "survey = survey.drop([\"Q13a Other Standard\"], axis = 1)"
   ]
  },
  {
   "cell_type": "code",
   "execution_count": 93,
   "id": "9d05fad8",
   "metadata": {},
   "outputs": [],
   "source": [
    "survey = survey.drop([\"Q13b What service area did you contact Police\"], axis = 1)"
   ]
  },
  {
   "cell_type": "code",
   "execution_count": 94,
   "id": "4867fe67",
   "metadata": {},
   "outputs": [],
   "source": [
    "survey = survey.drop([\"Q13b What service area did you contact Fire/Emergency Medical/Rescue\"], axis = 1)"
   ]
  },
  {
   "cell_type": "code",
   "execution_count": 95,
   "id": "32edb170",
   "metadata": {},
   "outputs": [],
   "source": [
    "survey = survey.drop([\"Q13b What service area did you contact Libraries\"], axis = 1)"
   ]
  },
  {
   "cell_type": "code",
   "execution_count": 96,
   "id": "833a205b",
   "metadata": {},
   "outputs": [],
   "source": [
    "survey = survey.drop([\"Q13b What service area did you contact Parks & Recreation\"], axis = 1)"
   ]
  },
  {
   "cell_type": "code",
   "execution_count": 97,
   "id": "2e240254",
   "metadata": {},
   "outputs": [],
   "source": [
    "survey = survey.drop([\"Q13b What service area did you contact Health/ Human Services\"], axis = 1)"
   ]
  },
  {
   "cell_type": "code",
   "execution_count": 98,
   "id": "c50dde24",
   "metadata": {},
   "outputs": [],
   "source": [
    "survey = survey.drop([\"Q13b What service area did you contact Treasure/Commissioner of Revenue\"], axis = 1)"
   ]
  },
  {
   "cell_type": "code",
   "execution_count": 99,
   "id": "4fafb320",
   "metadata": {},
   "outputs": [],
   "source": [
    "survey = survey.drop([\"Q13b What service area did you contact Street Maintech\"], axis = 1)"
   ]
  },
  {
   "cell_type": "code",
   "execution_count": 100,
   "id": "03defd58",
   "metadata": {},
   "outputs": [],
   "source": [
    "survey = survey.drop([\"Q13b What service area did you contact Planning/Code Enforcement\"], axis = 1)"
   ]
  },
  {
   "cell_type": "code",
   "execution_count": 101,
   "id": "bc1623e4",
   "metadata": {},
   "outputs": [],
   "source": [
    "survey = survey.drop([\"Q13b What service area did you contact Solid Waste\"], axis = 1)"
   ]
  },
  {
   "cell_type": "code",
   "execution_count": 102,
   "id": "bba8067b",
   "metadata": {},
   "outputs": [],
   "source": [
    "survey = survey.drop([\"Q13b What service area did you contact County Manager/Board\"], axis = 1)"
   ]
  },
  {
   "cell_type": "code",
   "execution_count": 103,
   "id": "eae5879f",
   "metadata": {},
   "outputs": [],
   "source": [
    "survey = survey.drop([\"Q13b What service area did you contact Other\"], axis = 1)"
   ]
  },
  {
   "cell_type": "code",
   "execution_count": 104,
   "id": "ec4233fc",
   "metadata": {},
   "outputs": [],
   "source": [
    "survey = survey.drop([\"Q13b Other\"], axis = 1)"
   ]
  },
  {
   "cell_type": "code",
   "execution_count": 105,
   "id": "6643d693",
   "metadata": {},
   "outputs": [],
   "source": [
    "survey = survey.drop([\"Q13b Other Standard\"], axis = 1)"
   ]
  },
  {
   "cell_type": "code",
   "execution_count": 106,
   "id": "57a77928",
   "metadata": {},
   "outputs": [],
   "source": [
    "survey = survey.drop([\"Q13c How easy they were to contact\"], axis = 1)"
   ]
  },
  {
   "cell_type": "code",
   "execution_count": 107,
   "id": "b2f9fcab",
   "metadata": {},
   "outputs": [],
   "source": [
    "survey = survey.drop([\"Q13d Courtesy and professionalism\"], axis = 1)"
   ]
  },
  {
   "cell_type": "code",
   "execution_count": 108,
   "id": "de23d044",
   "metadata": {},
   "outputs": [],
   "source": [
    "survey = survey.drop([\"Q13e Knowledge and technical competence\"], axis = 1)"
   ]
  },
  {
   "cell_type": "code",
   "execution_count": 109,
   "id": "0dbf85f0",
   "metadata": {},
   "outputs": [],
   "source": [
    "survey = survey.drop([\"Q13f Ability to help resolve your issue\"], axis = 1)"
   ]
  },
  {
   "cell_type": "code",
   "execution_count": 110,
   "id": "75f4bacc",
   "metadata": {},
   "outputs": [],
   "source": [
    "survey = survey.drop([\"Q14a Ease of traveling within County\"], axis = 1)"
   ]
  },
  {
   "cell_type": "code",
   "execution_count": 111,
   "id": "12fd8831",
   "metadata": {},
   "outputs": [],
   "source": [
    "survey = survey.drop([\"Q14b Traveling from county to jurisdiction\"], axis = 1)"
   ]
  },
  {
   "cell_type": "code",
   "execution_count": 112,
   "id": "b70953b3",
   "metadata": {},
   "outputs": [],
   "source": [
    "survey = survey.drop([\"Q14c Availability of transportation\"], axis = 1)"
   ]
  },
  {
   "cell_type": "code",
   "execution_count": 113,
   "id": "05de6d10",
   "metadata": {},
   "outputs": [],
   "source": [
    "survey = survey.drop([\"Q14d Quality of public transit system\"], axis = 1)"
   ]
  },
  {
   "cell_type": "code",
   "execution_count": 114,
   "id": "1bb81b37",
   "metadata": {},
   "outputs": [],
   "source": [
    "survey = survey.drop([\"Q14e Metro services in Arlington\"], axis = 1)"
   ]
  },
  {
   "cell_type": "code",
   "execution_count": 115,
   "id": "7cad98fa",
   "metadata": {},
   "outputs": [],
   "source": [
    "survey = survey.drop([\"Q14f Sidewalks for pedestrians\"], axis = 1)"
   ]
  },
  {
   "cell_type": "code",
   "execution_count": 116,
   "id": "7e9739d0",
   "metadata": {},
   "outputs": [],
   "source": [
    "survey = survey.drop([\"Q14g Pedestrian safety in neighborhood\"], axis = 1)"
   ]
  },
  {
   "cell_type": "code",
   "execution_count": 117,
   "id": "e0d955c1",
   "metadata": {},
   "outputs": [],
   "source": [
    "survey = survey.drop([\"Q14h Pedestrian safety in county\"], axis = 1)"
   ]
  },
  {
   "cell_type": "code",
   "execution_count": 118,
   "id": "cc8aee53",
   "metadata": {},
   "outputs": [],
   "source": [
    "survey = survey.drop([\"Q14i Bike trails and bike lanes\"], axis = 1)"
   ]
  },
  {
   "cell_type": "code",
   "execution_count": 119,
   "id": "864a1027",
   "metadata": {},
   "outputs": [],
   "source": [
    "survey = survey.drop([\"Q14j Traffic calming measures\"], axis = 1)"
   ]
  },
  {
   "cell_type": "code",
   "execution_count": 120,
   "id": "28fb31cb",
   "metadata": {},
   "outputs": [],
   "source": [
    "survey = survey.drop([\"Q15 Most important Transportation service to improve from Q14\"], axis = 1)"
   ]
  },
  {
   "cell_type": "code",
   "execution_count": 121,
   "id": "9f586b1e",
   "metadata": {},
   "outputs": [],
   "source": [
    "survey = survey.drop([\"Q15 2nd Most important Transportation service to improve from Q14\"], axis = 1)"
   ]
  },
  {
   "cell_type": "code",
   "execution_count": 122,
   "id": "49e20b4b",
   "metadata": {},
   "outputs": [],
   "source": [
    "survey = survey.drop([\"Q15 3rd Most important Transportation service to improve from Q14\"], axis = 1)"
   ]
  },
  {
   "cell_type": "code",
   "execution_count": 123,
   "id": "817af0c3",
   "metadata": {},
   "outputs": [],
   "source": [
    "survey = survey.drop([\"Q16a Exterior maintenance of residential\"], axis = 1)"
   ]
  },
  {
   "cell_type": "code",
   "execution_count": 124,
   "id": "39108252",
   "metadata": {},
   "outputs": [],
   "source": [
    "survey = survey.drop([\"Q16b Exterior maintenance of commercial\"], axis = 1)"
   ]
  },
  {
   "cell_type": "code",
   "execution_count": 125,
   "id": "a0326c23",
   "metadata": {},
   "outputs": [],
   "source": [
    "survey = survey.drop([\"Q16c Enforcement of construction sites\"], axis = 1)"
   ]
  },
  {
   "cell_type": "code",
   "execution_count": 126,
   "id": "71348134",
   "metadata": {},
   "outputs": [],
   "source": [
    "survey = survey.drop([\"Q16d Enforcement of noise regulations\"], axis = 1)"
   ]
  },
  {
   "cell_type": "code",
   "execution_count": 127,
   "id": "932fea93",
   "metadata": {},
   "outputs": [],
   "source": [
    "survey = survey.drop([\"Q17 Most important Code enforcement to improve from Q16\"], axis = 1)"
   ]
  },
  {
   "cell_type": "code",
   "execution_count": 128,
   "id": "6c3de3dc",
   "metadata": {},
   "outputs": [],
   "source": [
    "survey = survey.drop([\"Q17 2nd Most important Code enforcement to improve from Q16\"], axis = 1)"
   ]
  },
  {
   "cell_type": "code",
   "execution_count": 129,
   "id": "2bd8b6c6",
   "metadata": {},
   "outputs": [],
   "source": [
    "survey = survey.drop([\"Q18a Information programs and services\"], axis = 1)"
   ]
  },
  {
   "cell_type": "code",
   "execution_count": 130,
   "id": "7d8ab5df",
   "metadata": {},
   "outputs": [],
   "source": [
    "survey = survey.drop([\"Q18b Keep you informed about local issue\"], axis = 1)"
   ]
  },
  {
   "cell_type": "code",
   "execution_count": 131,
   "id": "342f587b",
   "metadata": {},
   "outputs": [],
   "source": [
    "survey = survey.drop([\"Q18c Government's cable TV channel\"], axis = 1)"
   ]
  },
  {
   "cell_type": "code",
   "execution_count": 132,
   "id": "5b48620b",
   "metadata": {},
   "outputs": [],
   "source": [
    "survey = survey.drop([\"Q18d Quality of information on website\"], axis = 1)"
   ]
  },
  {
   "cell_type": "code",
   "execution_count": 133,
   "id": "7596cc3d",
   "metadata": {},
   "outputs": [],
   "source": [
    "survey = survey.drop([\"Q18e County's Facebook and twitter sites\"], axis = 1)"
   ]
  },
  {
   "cell_type": "code",
   "execution_count": 134,
   "id": "aab213be",
   "metadata": {},
   "outputs": [],
   "source": [
    "survey = survey.drop([\"Q18f County's bimonthly resident newsletter\"], axis = 1)"
   ]
  },
  {
   "cell_type": "code",
   "execution_count": 135,
   "id": "7aadd76f",
   "metadata": {},
   "outputs": [],
   "source": [
    "survey = survey.drop([\"Q18g County's e-newsletter\"], axis = 1)"
   ]
  },
  {
   "cell_type": "code",
   "execution_count": 136,
   "id": "a2fdc7fb",
   "metadata": {},
   "outputs": [],
   "source": [
    "survey = survey.drop([\"Q19 Primary Sources for County Information The County Newsletter, The Citizen\"], axis = 1)"
   ]
  },
  {
   "cell_type": "code",
   "execution_count": 137,
   "id": "c9ca31a4",
   "metadata": {},
   "outputs": [],
   "source": [
    "survey = survey.drop([\"Q19 Primary Sources for County Information The Washington Post\"], axis = 1)"
   ]
  },
  {
   "cell_type": "code",
   "execution_count": 138,
   "id": "5f3c9c19",
   "metadata": {},
   "outputs": [],
   "source": [
    "survey = survey.drop([\"Q19 Primary Sources for County Information Local Print Media\"], axis = 1)"
   ]
  },
  {
   "cell_type": "code",
   "execution_count": 139,
   "id": "7c54149c",
   "metadata": {},
   "outputs": [],
   "source": [
    "survey = survey.drop([\"Q19 Primary Sources for County Information Local online media/blogs\"], axis = 1)"
   ]
  },
  {
   "cell_type": "code",
   "execution_count": 140,
   "id": "e5a8f676",
   "metadata": {},
   "outputs": [],
   "source": [
    "survey = survey.drop([\"Q19 Primary Sources for County Information The County Facebook/Twitter feeds\"], axis = 1)"
   ]
  },
  {
   "cell_type": "code",
   "execution_count": 141,
   "id": "de9fa6bf",
   "metadata": {},
   "outputs": [],
   "source": [
    "survey = survey.drop([\"Q19 Primary Sources for County Information Local TV/Cable news\"], axis = 1)"
   ]
  },
  {
   "cell_type": "code",
   "execution_count": 142,
   "id": "cc6a5cc0",
   "metadata": {},
   "outputs": [],
   "source": [
    "survey = survey.drop([\"Q19 Primary Sources for County Information Radio\"], axis = 1)"
   ]
  },
  {
   "cell_type": "code",
   "execution_count": 143,
   "id": "2abc5b69",
   "metadata": {},
   "outputs": [],
   "source": [
    "survey = survey.drop([\"Q19 Primary Sources for County Information Arlington's Cable TV channel (AVN)\"], axis = 1)"
   ]
  },
  {
   "cell_type": "code",
   "execution_count": 144,
   "id": "c7d54dd7",
   "metadata": {},
   "outputs": [],
   "source": [
    "survey = survey.drop([\"Q19 Primary Sources for County Information Latino media\"], axis = 1)"
   ]
  },
  {
   "cell_type": "code",
   "execution_count": 145,
   "id": "5d24af87",
   "metadata": {},
   "outputs": [],
   "source": [
    "survey = survey.drop([\"Q19 Primary Sources for County Information County website\"], axis = 1)"
   ]
  },
  {
   "cell_type": "code",
   "execution_count": 146,
   "id": "bc69bb3d",
   "metadata": {},
   "outputs": [],
   "source": [
    "survey = survey.drop([\"Q19 Primary Sources for County Information Arlington Insider (County's e-newsletter)\"], axis = 1)"
   ]
  },
  {
   "cell_type": "code",
   "execution_count": 147,
   "id": "f25b627d",
   "metadata": {},
   "outputs": [],
   "source": [
    "survey = survey.drop([\"Q19 Primary Sources for County Information County press releases/newsroom\"], axis = 1)"
   ]
  },
  {
   "cell_type": "code",
   "execution_count": 148,
   "id": "4fdb314a",
   "metadata": {},
   "outputs": [],
   "source": [
    "survey = survey.drop([\"Q19 Primary Sources for County Information Civic association newsletters/listservs\"], axis = 1)"
   ]
  },
  {
   "cell_type": "code",
   "execution_count": 149,
   "id": "a4499c9e",
   "metadata": {},
   "outputs": [],
   "source": [
    "survey = survey.drop([\"Q19 Primary Sources for County Information Parks and Recreation publications\"], axis = 1)"
   ]
  },
  {
   "cell_type": "code",
   "execution_count": 150,
   "id": "19d26b29",
   "metadata": {},
   "outputs": [],
   "source": [
    "survey = survey.drop([\"Q19 Primary Sources for County Information Other\"], axis = 1)"
   ]
  },
  {
   "cell_type": "code",
   "execution_count": 151,
   "id": "f4f4b43e",
   "metadata": {},
   "outputs": [],
   "source": [
    "survey = survey.drop([\"Q19 Other\"], axis = 1)"
   ]
  },
  {
   "cell_type": "code",
   "execution_count": 152,
   "id": "dc50c4db",
   "metadata": {},
   "outputs": [],
   "source": [
    "survey = survey.drop([\"Other 19 Standard\"], axis = 1)"
   ]
  },
  {
   "cell_type": "code",
   "execution_count": 153,
   "id": "dab7921c",
   "metadata": {},
   "outputs": [],
   "source": [
    "survey = survey.drop([\"Q20 Have you watched AVN\"], axis = 1)"
   ]
  },
  {
   "cell_type": "code",
   "execution_count": 154,
   "id": "09e9109f",
   "metadata": {},
   "outputs": [],
   "source": [
    "survey = survey.drop([\"Q20a What programming is most important County Board Meetings\"], axis = 1)"
   ]
  },
  {
   "cell_type": "code",
   "execution_count": 155,
   "id": "ddc61f28",
   "metadata": {},
   "outputs": [],
   "source": [
    "survey = survey.drop([\"Q20a What programming is most important News/current events\"], axis = 1)"
   ]
  },
  {
   "cell_type": "code",
   "execution_count": 156,
   "id": "fdaa435f",
   "metadata": {},
   "outputs": [],
   "source": [
    "survey = survey.drop([\"Q20a What programming is most important History\"], axis = 1)"
   ]
  },
  {
   "cell_type": "code",
   "execution_count": 157,
   "id": "3f49a40a",
   "metadata": {},
   "outputs": [],
   "source": [
    "survey = survey.drop([\"Q20a What programming is most important Arts/culture/lifestyle\"], axis = 1)"
   ]
  },
  {
   "cell_type": "code",
   "execution_count": 158,
   "id": "cd3ee100",
   "metadata": {},
   "outputs": [],
   "source": [
    "survey = survey.drop([\"Q20a What programming is most important Government programs/services\"], axis = 1)"
   ]
  },
  {
   "cell_type": "code",
   "execution_count": 159,
   "id": "50499a42",
   "metadata": {},
   "outputs": [],
   "source": [
    "survey = survey.drop([\"Q20a What programming is most important Other\"], axis = 1)"
   ]
  },
  {
   "cell_type": "code",
   "execution_count": 160,
   "id": "b839feb3",
   "metadata": {},
   "outputs": [],
   "source": [
    "#survey = survey.drop([\"Q20a What programming is most important Watch AVN Programming but didn\\'t answer\"], axis = 1)"
   ]
  },
  {
   "cell_type": "code",
   "execution_count": 161,
   "id": "e5586f16",
   "metadata": {},
   "outputs": [],
   "source": [
    "survey = survey.drop([\"Q20a What programming is most important Watch AVN Programming but didn't answer \"], axis = 1)"
   ]
  },
  {
   "cell_type": "code",
   "execution_count": 162,
   "id": "618ac601",
   "metadata": {},
   "outputs": [],
   "source": [
    "survey = survey.drop([\"Q20a Other\"], axis = 1)"
   ]
  },
  {
   "cell_type": "code",
   "execution_count": 163,
   "id": "0466df1c",
   "metadata": {},
   "outputs": [],
   "source": [
    "survey = survey.drop([\"Q20a Other Standard\"], axis = 1)"
   ]
  },
  {
   "cell_type": "code",
   "execution_count": 164,
   "id": "d4bd6f5e",
   "metadata": {},
   "outputs": [],
   "source": [
    "survey = survey.drop([\"Q21a Household prepared for emergency\"], axis = 1)"
   ]
  },
  {
   "cell_type": "code",
   "execution_count": 165,
   "id": "3c2b0f58",
   "metadata": {},
   "outputs": [],
   "source": [
    "survey = survey.drop([\"Q21b What to do in an emergency\"], axis = 1)"
   ]
  },
  {
   "cell_type": "code",
   "execution_count": 166,
   "id": "5b14840f",
   "metadata": {},
   "outputs": [],
   "source": [
    "survey = survey.drop([\"Q21c Get information during emergency\"], axis = 1)"
   ]
  },
  {
   "cell_type": "code",
   "execution_count": 167,
   "id": "86491bab",
   "metadata": {},
   "outputs": [],
   "source": [
    "survey = survey.drop([\"Q21d Prepare for an emergency\"], axis = 1)"
   ]
  },
  {
   "cell_type": "code",
   "execution_count": 168,
   "id": "df03a706",
   "metadata": {},
   "outputs": [],
   "source": [
    "survey = survey.drop([\"Q22 Used the county library Visited Library\"], axis = 1)"
   ]
  },
  {
   "cell_type": "code",
   "execution_count": 169,
   "id": "67d5b5a9",
   "metadata": {},
   "outputs": [],
   "source": [
    "survey = survey.drop([\"Q22 Used the county library Used Online Library services\"], axis = 1)"
   ]
  },
  {
   "cell_type": "code",
   "execution_count": 170,
   "id": "4793d861",
   "metadata": {},
   "outputs": [],
   "source": [
    "survey = survey.drop([\"Q22 Used the county library Not used Library Services\"], axis = 1)"
   ]
  },
  {
   "cell_type": "code",
   "execution_count": 171,
   "id": "aa37c28c",
   "metadata": {},
   "outputs": [],
   "source": [
    "survey = survey.drop([\"Q22a Why haven't visited Library Not aware of services\"], axis = 1)"
   ]
  },
  {
   "cell_type": "code",
   "execution_count": 172,
   "id": "2217488c",
   "metadata": {},
   "outputs": [],
   "source": [
    "survey = survey.drop([\"Q22a Why haven't visited Library No transportation\"], axis = 1)"
   ]
  },
  {
   "cell_type": "code",
   "execution_count": 173,
   "id": "7733d03e",
   "metadata": {},
   "outputs": [],
   "source": [
    "survey = survey.drop([\"Q22a Why haven't visited Library No Need\"], axis = 1)"
   ]
  },
  {
   "cell_type": "code",
   "execution_count": 174,
   "id": "bb0b2d26",
   "metadata": {},
   "outputs": [],
   "source": [
    "survey = survey.drop([\"Q22a Why haven't visited Library Too busy\"], axis = 1)"
   ]
  },
  {
   "cell_type": "code",
   "execution_count": 175,
   "id": "2877362a",
   "metadata": {},
   "outputs": [],
   "source": [
    "survey = survey.drop([\"Q22a Why haven't visited Library Does not have material I need\"], axis = 1)"
   ]
  },
  {
   "cell_type": "code",
   "execution_count": 176,
   "id": "20fb3216",
   "metadata": {},
   "outputs": [],
   "source": [
    "survey = survey.drop([\"Q22a Why haven't visited Library No Programs of interest\"], axis = 1)"
   ]
  },
  {
   "cell_type": "code",
   "execution_count": 177,
   "id": "bb0f5fd1",
   "metadata": {},
   "outputs": [],
   "source": [
    "survey = survey.drop([\"Q22a Why haven't visited Library Other\"], axis = 1)"
   ]
  },
  {
   "cell_type": "code",
   "execution_count": 178,
   "id": "a13c888e",
   "metadata": {},
   "outputs": [],
   "source": [
    "survey = survey.drop([\"Q22a Why haven't visited Library Didn't Answer\"], axis = 1)"
   ]
  },
  {
   "cell_type": "code",
   "execution_count": 179,
   "id": "a839e31c",
   "metadata": {},
   "outputs": [],
   "source": [
    "survey = survey.drop([\"Q22a Other\"], axis = 1)"
   ]
  },
  {
   "cell_type": "code",
   "execution_count": 180,
   "id": "906aedf1",
   "metadata": {},
   "outputs": [],
   "source": [
    "survey = survey.drop([\"Q22a Other Standard\"], axis = 1)"
   ]
  },
  {
   "cell_type": "code",
   "execution_count": 181,
   "id": "fe77b8d1",
   "metadata": {},
   "outputs": [],
   "source": [
    "survey = survey.drop([\"Q22b Depth/range of library collection\"], axis = 1)"
   ]
  },
  {
   "cell_type": "code",
   "execution_count": 182,
   "id": "0f858252",
   "metadata": {},
   "outputs": [],
   "source": [
    "survey = survey.drop([\"Q22c Electronic materials\"], axis = 1)"
   ]
  },
  {
   "cell_type": "code",
   "execution_count": 183,
   "id": "b8d0086b",
   "metadata": {},
   "outputs": [],
   "source": [
    "survey = survey.drop([\"Q22d Programs for children\"], axis = 1)"
   ]
  },
  {
   "cell_type": "code",
   "execution_count": 184,
   "id": "9999bd7b",
   "metadata": {},
   "outputs": [],
   "source": [
    "survey = survey.drop([\"Q22e Programs for adults\"], axis = 1)"
   ]
  },
  {
   "cell_type": "code",
   "execution_count": 185,
   "id": "8d5f29ad",
   "metadata": {},
   "outputs": [],
   "source": [
    "survey = survey.drop([\"Q22f Computer/technology services\"], axis = 1)"
   ]
  },
  {
   "cell_type": "code",
   "execution_count": 186,
   "id": "e0736841",
   "metadata": {},
   "outputs": [],
   "source": [
    "survey = survey.drop([\"Q22g Customer service effectiveness\"], axis = 1)"
   ]
  },
  {
   "cell_type": "code",
   "execution_count": 187,
   "id": "b23171ef",
   "metadata": {},
   "outputs": [],
   "source": [
    "survey = survey.drop([\"Q22h Hours libraries are open\"], axis = 1)"
   ]
  },
  {
   "cell_type": "code",
   "execution_count": 188,
   "id": "7583e3fc",
   "metadata": {},
   "outputs": [],
   "source": [
    "survey = survey.drop([\"Q22i Notifications of library\"], axis = 1)"
   ]
  },
  {
   "cell_type": "code",
   "execution_count": 189,
   "id": "fa3252d2",
   "metadata": {},
   "outputs": [],
   "source": [
    "survey = survey.drop([\"Q22j Most important Library service to improve from Q22\"], axis = 1)"
   ]
  },
  {
   "cell_type": "code",
   "execution_count": 190,
   "id": "075e63fd",
   "metadata": {},
   "outputs": [],
   "source": [
    "survey = survey.drop([\"Q22j 2nd Most important Library service to improve from Q22\"], axis = 1)"
   ]
  },
  {
   "cell_type": "code",
   "execution_count": 191,
   "id": "66b18ee3",
   "metadata": {},
   "outputs": [],
   "source": [
    "survey = survey.drop([\"Q23a Cleanliness and safety\"], axis = 1)"
   ]
  },
  {
   "cell_type": "code",
   "execution_count": 192,
   "id": "b0f6266a",
   "metadata": {},
   "outputs": [],
   "source": [
    "survey = survey.drop([\"Q23b Quality services supporting\"], axis = 1)"
   ]
  },
  {
   "cell_type": "code",
   "execution_count": 193,
   "id": "9b615e06",
   "metadata": {},
   "outputs": [],
   "source": [
    "survey = survey.drop([\"Q23c Availability of services to seniors\"], axis = 1)"
   ]
  },
  {
   "cell_type": "code",
   "execution_count": 194,
   "id": "ab3bb28d",
   "metadata": {},
   "outputs": [],
   "source": [
    "survey = survey.drop([\"Q23d People on a low or fixed income\"], axis = 1)"
   ]
  },
  {
   "cell_type": "code",
   "execution_count": 195,
   "id": "f72b3da5",
   "metadata": {},
   "outputs": [],
   "source": [
    "survey = survey.drop([\"Q23e Services to the unemployed\"], axis = 1)"
   ]
  },
  {
   "cell_type": "code",
   "execution_count": 196,
   "id": "3a66e2bb",
   "metadata": {},
   "outputs": [],
   "source": [
    "survey = survey.drop([\"Q23f School health programs\"], axis = 1)"
   ]
  },
  {
   "cell_type": "code",
   "execution_count": 197,
   "id": "2e1e34a7",
   "metadata": {},
   "outputs": [],
   "source": [
    "survey = survey.drop([\"Q23g Affordable housing\"], axis = 1)"
   ]
  },
  {
   "cell_type": "code",
   "execution_count": 198,
   "id": "daa3d8b9",
   "metadata": {},
   "outputs": [],
   "source": [
    "survey = survey.drop([\"Q24 Most important Health and Human Service to improve from Q23\"], axis = 1)"
   ]
  },
  {
   "cell_type": "code",
   "execution_count": 199,
   "id": "65c4d363",
   "metadata": {},
   "outputs": [],
   "source": [
    "survey = survey.drop([\"Q24 2nd Most important Health and Human Service to improve from Q23\"], axis = 1)"
   ]
  },
  {
   "cell_type": "code",
   "execution_count": 200,
   "id": "661d881d",
   "metadata": {},
   "outputs": [],
   "source": [
    "survey = survey.drop([\"Q25 Which have you used Facebook\"], axis = 1)"
   ]
  },
  {
   "cell_type": "code",
   "execution_count": 201,
   "id": "fb5629c4",
   "metadata": {},
   "outputs": [],
   "source": [
    "survey = survey.drop([\"Q25 Which have you used Twitter\"], axis = 1)"
   ]
  },
  {
   "cell_type": "code",
   "execution_count": 202,
   "id": "9eed9f0c",
   "metadata": {},
   "outputs": [],
   "source": [
    "survey = survey.drop([\"Q25 Which have you used Online Video Content\"], axis = 1)"
   ]
  },
  {
   "cell_type": "code",
   "execution_count": 203,
   "id": "be287ff5",
   "metadata": {},
   "outputs": [],
   "source": [
    "survey = survey.drop([\"Q25 Which have you used Online Audio Content\"], axis = 1)"
   ]
  },
  {
   "cell_type": "code",
   "execution_count": 204,
   "id": "4e411a23",
   "metadata": {},
   "outputs": [],
   "source": [
    "survey = survey.drop([\"Q25 Which have you used Smartphone\"], axis = 1)"
   ]
  },
  {
   "cell_type": "code",
   "execution_count": 205,
   "id": "3b9625fb",
   "metadata": {},
   "outputs": [],
   "source": [
    "survey = survey.drop([\"Q25 Which have you used Mobile app\"], axis = 1)"
   ]
  },
  {
   "cell_type": "code",
   "execution_count": 206,
   "id": "6214640a",
   "metadata": {},
   "outputs": [],
   "source": [
    "survey = survey.drop([\"Q25 Which have you used Tablet\"], axis = 1)"
   ]
  },
  {
   "cell_type": "code",
   "execution_count": 207,
   "id": "bc62b5b5",
   "metadata": {},
   "outputs": [],
   "source": [
    "survey = survey.drop([\"Q25 Which have you used Text messaging\"], axis = 1)"
   ]
  },
  {
   "cell_type": "code",
   "execution_count": 208,
   "id": "37adc2f2",
   "metadata": {},
   "outputs": [],
   "source": [
    "survey = survey.drop([\"Q25 Which have you used Email\"], axis = 1)"
   ]
  },
  {
   "cell_type": "code",
   "execution_count": 209,
   "id": "bb24e6ec",
   "metadata": {},
   "outputs": [],
   "source": [
    "survey = survey.drop([\"Q26 Do you own or rent\"], axis = 1)"
   ]
  },
  {
   "cell_type": "code",
   "execution_count": 210,
   "id": "f5dace46",
   "metadata": {},
   "outputs": [],
   "source": [
    "survey = survey.drop([\"Q27 Which best describes your home\"], axis = 1)"
   ]
  },
  {
   "cell_type": "code",
   "execution_count": 211,
   "id": "68a5b446",
   "metadata": {},
   "outputs": [],
   "source": [
    "survey = survey.drop([\"Q27 Other\"], axis = 1)"
   ]
  },
  {
   "cell_type": "code",
   "execution_count": 212,
   "id": "1d042957",
   "metadata": {},
   "outputs": [],
   "source": [
    "survey = survey.drop([\"Q27 Other Standard\"], axis = 1)"
   ]
  },
  {
   "cell_type": "code",
   "execution_count": 213,
   "id": "1489ca3f",
   "metadata": {},
   "outputs": [],
   "source": [
    "survey = survey.drop([\"Q28 How many years in Arlington\"], axis = 1)"
   ]
  },
  {
   "cell_type": "code",
   "execution_count": 214,
   "id": "31f2cb75",
   "metadata": {},
   "outputs": [],
   "source": [
    "survey = survey.drop([\"Q28 How many years in Arlington Grouped\"], axis = 1)"
   ]
  },
  {
   "cell_type": "code",
   "execution_count": 215,
   "id": "283801a4",
   "metadata": {},
   "outputs": [],
   "source": [
    "survey = survey.drop([\"Q30 English primary language\"], axis = 1)"
   ]
  },
  {
   "cell_type": "code",
   "execution_count": 216,
   "id": "38ee8260",
   "metadata": {},
   "outputs": [],
   "source": [
    "survey = survey.drop([\"Q30a What Language\"], axis = 1)"
   ]
  },
  {
   "cell_type": "code",
   "execution_count": 217,
   "id": "e09ff57f",
   "metadata": {},
   "outputs": [],
   "source": [
    "survey = survey.drop([\"Q30a What language Standard\"], axis = 1)"
   ]
  },
  {
   "cell_type": "code",
   "execution_count": 218,
   "id": "22713e1a",
   "metadata": {},
   "outputs": [],
   "source": [
    "survey = survey.drop([\"Q31 Do you have a physical disability\"], axis = 1)"
   ]
  },
  {
   "cell_type": "code",
   "execution_count": 219,
   "id": "59bdb9b2",
   "metadata": {},
   "outputs": [],
   "source": [
    "survey = survey.drop([\"Q32 Persons in Household Under age 10\"], axis = 1)"
   ]
  },
  {
   "cell_type": "code",
   "execution_count": 220,
   "id": "a6459b89",
   "metadata": {},
   "outputs": [],
   "source": [
    "survey = survey.drop([\"Q32 Persons in Household Ages 11-19\"], axis = 1)"
   ]
  },
  {
   "cell_type": "code",
   "execution_count": 221,
   "id": "426488c7",
   "metadata": {},
   "outputs": [],
   "source": [
    "survey = survey.drop([\"Q32 Persons in Household Ages 20-44\"], axis = 1)"
   ]
  },
  {
   "cell_type": "code",
   "execution_count": 222,
   "id": "418b6c3a",
   "metadata": {},
   "outputs": [],
   "source": [
    "survey = survey.drop([\"Q32 Persons in Household Ages 45-64\"], axis = 1)"
   ]
  },
  {
   "cell_type": "code",
   "execution_count": 223,
   "id": "2a508b21",
   "metadata": {},
   "outputs": [],
   "source": [
    "survey = survey.drop([\"Q32 Persons in Household Ages 65+\"], axis = 1)"
   ]
  },
  {
   "cell_type": "code",
   "execution_count": 224,
   "id": "d0055058",
   "metadata": {},
   "outputs": [],
   "source": [
    "survey = survey.drop([\"Q33 Your total household income is\"], axis = 1)"
   ]
  },
  {
   "cell_type": "code",
   "execution_count": 225,
   "id": "5679c6b8",
   "metadata": {},
   "outputs": [],
   "source": [
    "survey = survey.drop([\"Q35 Sexual orientation\"], axis = 1)"
   ]
  },
  {
   "cell_type": "code",
   "execution_count": 226,
   "id": "2a270c44",
   "metadata": {},
   "outputs": [],
   "source": [
    "survey = survey.drop([\"BLOCK_LAT\"], axis = 1)"
   ]
  },
  {
   "cell_type": "code",
   "execution_count": 227,
   "id": "c8e86329",
   "metadata": {},
   "outputs": [],
   "source": [
    "survey = survey.drop([\"BLOCK_LON\"], axis = 1)"
   ]
  },
  {
   "cell_type": "code",
   "execution_count": 228,
   "id": "93e2bfac",
   "metadata": {},
   "outputs": [],
   "source": [
    "#survey = survey.drop([\"Q29 Which best describes your race Other\"], axis = 1)"
   ]
  },
  {
   "cell_type": "code",
   "execution_count": 229,
   "id": "a52b031d",
   "metadata": {},
   "outputs": [],
   "source": [
    "survey = survey.drop([\"Q29 Other\"], axis = 1)"
   ]
  },
  {
   "cell_type": "code",
   "execution_count": 230,
   "id": "635b4f43",
   "metadata": {
    "scrolled": true
   },
   "outputs": [],
   "source": [
    "survey['Q29 Which best describes your race Asian/Pacific Islander'] = survey['Q29 Which best describes your race Asian/Pacific Islander'].fillna(\"\")\n",
    "\n",
    "survey['Q29 Which best describes your race Black/African American'] = survey['Q29 Which best describes your race Black/African American'].fillna(\"\")\n",
    "\n",
    "survey['Q29 Which best describes your race Hispanic'] = survey['Q29 Which best describes your race Hispanic'].fillna(\"\")\n",
    "\n",
    "survey['Q29 Which best describes your race White'] = survey['Q29 Which best describes your race White'].fillna(\"\")\n",
    "\n",
    "survey['Q29 Which best describes your race American Indian/Eskimo'] = survey['Q29 Which best describes your race American Indian/Eskimo'].fillna(\"\")\n",
    "\n",
    "survey['Q29 Which best describes your race Other'] = survey['Q29 Which best describes your race Other'].fillna(\"\")\n",
    "\n"
   ]
  },
  {
   "cell_type": "code",
   "execution_count": 231,
   "id": "f0aebe99",
   "metadata": {},
   "outputs": [],
   "source": [
    "survey['Q1a Quality of police services'] = survey['Q1a Quality of police services'].replace([\"9 - Don't Know\", \"5 - Very Satisfied\", \"4 - Satisfied\", \"3 - Neutral\", \"2 - Dissatisfied\", \"1 - Very Dissatisfied\"],[\"Don't Know\", \"Very Satisfied\",\"Satisfied\", \"Neutral\", \"Dissatisfied\", \"Very Dissatisfied\"])\n",
    "\n",
    "survey['Q29 Which best describes your race Asian/Pacific Islander'] = survey['Q29 Which best describes your race Asian/Pacific Islander'].replace([\"1 - Asian/Pacific Islander\"],[\"Asian/Pacific Islander\"])\n",
    "survey['Q29 Which best describes your race Black/African American'] = survey['Q29 Which best describes your race Black/African American'].replace([\"2 - Black/African American\"],[\"Black/African American\"])\n",
    "survey['Q29 Which best describes your race Hispanic'] = survey['Q29 Which best describes your race Hispanic'].replace([\"3 - Hispanic\"],[\"Hispanic\"])\n",
    "survey['Q29 Which best describes your race White'] = survey['Q29 Which best describes your race White'].replace([\"4 - White\"],[\"White\"])\n",
    "survey['Q29 Which best describes your race American Indian/Eskimo'] = survey['Q29 Which best describes your race American Indian/Eskimo'].replace([\"5 - American Indian/Eskimo\"],[\"American Indian/Eskimo\"])\n",
    "survey['Q29 Which best describes your race Other'] = survey['Q29 Which best describes your race Other'].replace([\"6 - Other\"],[\"Other\"])\n",
    "\n",
    "survey['Q34 Your gender'] = survey['Q34 Your gender'].replace([\"1 - Male\", \"2 - Female\"],[\"Male\", \"Female\"])\n",
    "\n",
    "\n",
    "survey['Q1a Quality of police services'] = survey['Q1a Quality of police services'].replace([\"Very Satisfied\"],[\"Satisfied\"])\n",
    "survey['Q1a Quality of police services'] = survey['Q1a Quality of police services'].replace([\"Very Dissatisfied\"],[\"Dissatisfied\"])"
   ]
  },
  {
   "cell_type": "code",
   "execution_count": 232,
   "id": "6f0e4dfe",
   "metadata": {
    "scrolled": true
   },
   "outputs": [],
   "source": [
    "survey['race'] = survey['Q29 Which best describes your race Asian/Pacific Islander'].str.cat(survey['Q29 Which best describes your race Black/African American'])\n",
    "survey['race2'] = survey['race'].str.cat(survey['Q29 Which best describes your race Hispanic'])\n",
    "survey['race3'] = survey['race2'].str.cat(survey['Q29 Which best describes your race White'])\n",
    "survey['race4'] = survey['race3'].str.cat(survey['Q29 Which best describes your race American Indian/Eskimo'])\n",
    "survey['race5'] = survey['race4'].str.cat(survey['Q29 Which best describes your race Other'])\n"
   ]
  },
  {
   "cell_type": "code",
   "execution_count": 233,
   "id": "35f58b8a",
   "metadata": {
    "scrolled": true
   },
   "outputs": [],
   "source": [
    "survey = survey.drop([\"Q29 Which best describes your race Asian/Pacific Islander\"], axis = 1)\n",
    "survey = survey.drop([\"Q29 Which best describes your race Black/African American\"], axis = 1)\n",
    "survey = survey.drop([\"Q29 Which best describes your race Hispanic\"], axis = 1)\n",
    "survey = survey.drop([\"Q29 Which best describes your race White\"], axis = 1)\n",
    "survey = survey.drop([\"Q29 Which best describes your race American Indian/Eskimo\"], axis = 1)\n",
    "survey = survey.drop([\"Q29 Which best describes your race Other\"], axis = 1)\n",
    "survey = survey.drop([\"race\"], axis = 1)\n",
    "survey = survey.drop([\"race2\"], axis = 1)\n",
    "survey = survey.drop([\"race3\"], axis = 1)\n",
    "survey = survey.drop([\"race4\"], axis = 1)\n"
   ]
  },
  {
   "cell_type": "code",
   "execution_count": 234,
   "id": "053f0f0d",
   "metadata": {
    "scrolled": true
   },
   "outputs": [],
   "source": [
    "survey.rename(columns = {'ID':'Paricipant ID'}, inplace = True)\n",
    "survey.rename(columns = {'Q1a Quality of police services':'Police Service Satisfaction'}, inplace = True)\n",
    "survey.rename(columns = {'Q34 Your gender':'Gender'}, inplace = True)\n",
    "survey.rename(columns = {'race5':'Race'}, inplace = True)\n",
    "survey = survey[survey['Race'] != \"\"]\n"
   ]
  },
  {
   "cell_type": "code",
   "execution_count": 235,
   "id": "3e6d14d6",
   "metadata": {
    "scrolled": true
   },
   "outputs": [
    {
     "data": {
      "text/plain": [
       "<AxesSubplot:>"
      ]
     },
     "execution_count": 235,
     "metadata": {},
     "output_type": "execute_result"
    },
    {
     "data": {
      "image/png": "[encoded data removed]",
      "text/plain": [
       "<Figure size 360x360 with 1 Axes>"
      ]
     },
     "metadata": {
      "needs_background": "light"
     },
     "output_type": "display_data"
    }
   ],
   "source": [
    "count = survey['Race'].value_counts() \n",
    "\n",
    "fig = plt.figure(figsize=(5,5)) # define plot area\n",
    "ax = fig.gca() # define axis    \n",
    "\n",
    "count.plot.bar()"
   ]
  },
  {
   "cell_type": "code",
   "execution_count": 236,
   "id": "cdb45fb9",
   "metadata": {
    "scrolled": true
   },
   "outputs": [
    {
     "data": {
      "text/plain": [
       "<AxesSubplot:>"
      ]
     },
     "execution_count": 236,
     "metadata": {},
     "output_type": "execute_result"
    },
    {
     "data": {
      "image/png": "[encoded data removed]",
      "text/plain": [
       "<Figure size 360x360 with 1 Axes>"
      ]
     },
     "metadata": {
      "needs_background": "light"
     },
     "output_type": "display_data"
    }
   ],
   "source": [
    "count = survey['Gender'].value_counts() \n",
    "\n",
    "fig = plt.figure(figsize=(5,5)) # define plot area\n",
    "ax = fig.gca() # define axis    \n",
    "\n",
    "count.plot.bar()"
   ]
  },
  {
   "cell_type": "code",
   "execution_count": 237,
   "id": "421d93c7",
   "metadata": {},
   "outputs": [
    {
     "data": {
      "text/plain": [
       "<AxesSubplot:>"
      ]
     },
     "execution_count": 237,
     "metadata": {},
     "output_type": "execute_result"
    },
    {
     "data": {
      "image/png": "[encoded data removed]",
      "text/plain": [
       "<Figure size 360x360 with 1 Axes>"
      ]
     },
     "metadata": {
      "needs_background": "light"
     },
     "output_type": "display_data"
    }
   ],
   "source": [
    "survey = survey[survey['Race'] != \"Black/African AmericanHispanic\"]\n",
    "survey = survey[survey['Race'] != \"Asian/Pacific IslanderWhite\"]\n",
    "survey = survey[survey['Race'] != \"Black/African AmericanWhite\"]\n",
    "survey = survey[survey['Race'] != \"WhiteOther\"]\n",
    "survey = survey[survey['Race'] != \"Other\"]\n",
    "survey = survey[survey['Race'] != \"WhiteAmerican Indian/Eskimo\"]\n",
    "survey = survey[survey['Race'] != \"Asian/Pacific IslanderHispanicWhite\"]\n",
    "survey = survey[survey['Race'] != \"Black/African AmericanWhiteAmerican Indian/Eskimo\"]\n",
    "survey = survey[survey['Race'] != \"Asian/Pacific IslanderHispanic\"]\n",
    "survey = survey[survey['Race'] != \"HispanicWhite\"]\n",
    "count = survey['Race'].value_counts() \n",
    "\n",
    "fig = plt.figure(figsize=(5,5)) # define plot area\n",
    "ax = fig.gca() # define axis    \n",
    "\n",
    "count.plot.bar()\n"
   ]
  },
  {
   "cell_type": "code",
   "execution_count": 238,
   "id": "419ec060",
   "metadata": {},
   "outputs": [],
   "source": [
    "survey = survey[survey['Police Service Satisfaction'] != \"Don't Know\"]\n",
    "survey = survey[survey['Police Service Satisfaction'] != \"Neutral\"]"
   ]
  },
  {
   "cell_type": "code",
   "execution_count": 239,
   "id": "08242013",
   "metadata": {},
   "outputs": [
    {
     "data": {
      "text/plain": [
       "<AxesSubplot:>"
      ]
     },
     "execution_count": 239,
     "metadata": {},
     "output_type": "execute_result"
    },
    {
     "data": {
      "image/png": "[encoded data removed]",
      "text/plain": [
       "<Figure size 360x360 with 1 Axes>"
      ]
     },
     "metadata": {
      "needs_background": "light"
     },
     "output_type": "display_data"
    }
   ],
   "source": [
    "count = survey['Police Service Satisfaction'].value_counts() \n",
    "\n",
    "fig = plt.figure(figsize=(5,5)) # define plot area\n",
    "ax = fig.gca() # define axis    \n",
    "\n",
    "count.plot.bar()"
   ]
  },
  {
   "cell_type": "code",
   "execution_count": 240,
   "id": "9ad434fa",
   "metadata": {},
   "outputs": [],
   "source": [
    "survey['Gender'] = survey['Gender'].replace(['Male'],1)\n",
    "survey['Gender'] = survey['Gender'].replace(['Female'],0)\n",
    "survey['Police Service Satisfaction'] = survey['Police Service Satisfaction'].replace([\"Satisfied\"],0)\n",
    "survey['Police Service Satisfaction'] = survey['Police Service Satisfaction'].replace([\"Dissatisfied\"],1)\n"
   ]
  },
  {
   "cell_type": "code",
   "execution_count": 241,
   "id": "8bd3a73b",
   "metadata": {},
   "outputs": [
    {
     "data": {
      "text/plain": [
       "0    899\n",
       "1     33\n",
       "Name: Police Service Satisfaction, dtype: int64"
      ]
     },
     "execution_count": 241,
     "metadata": {},
     "output_type": "execute_result"
    }
   ],
   "source": [
    "survey['Police Service Satisfaction'].value_counts() "
   ]
  },
  {
   "cell_type": "code",
   "execution_count": 242,
   "id": "eceadf2d",
   "metadata": {
    "scrolled": false
   },
   "outputs": [],
   "source": [
    "survey['Race'] = survey['Race'].replace([\"White\"],0)\n",
    "survey['Race'] = survey['Race'].replace([\"Hispanic\"],1)\n",
    "survey['Race'] = survey['Race'].replace([\"Asian/Pacific Islander\"],2)\n",
    "survey['Race'] = survey['Race'].replace([\"Black/African American\"],3)\n",
    "survey['Race'] = survey['Race'].replace([\"American Indian/Eskimo\"],4)\n",
    "survey = survey.drop(['Paricipant ID'], axis = 1)\n"
   ]
  },
  {
   "cell_type": "code",
   "execution_count": 243,
   "id": "29454581",
   "metadata": {},
   "outputs": [],
   "source": [
    "X=survey[['Gender','Race']]\n",
    "y = survey.get('Police Service Satisfaction')\n",
    "X_train, X_test, y_train, y_test = train_test_split(X, y,test_size = 0.2)"
   ]
  },
  {
   "cell_type": "code",
   "execution_count": 244,
   "id": "0eb91ab0",
   "metadata": {
    "scrolled": true
   },
   "outputs": [
    {
     "data": {
      "text/plain": [
       "0    899\n",
       "1    899\n",
       "Name: Police Service Satisfaction, dtype: int64"
      ]
     },
     "execution_count": 244,
     "metadata": {},
     "output_type": "execute_result"
    }
   ],
   "source": [
    "survey_new_majority = survey[survey['Police Service Satisfaction'] == 0]\n",
    "survey_new_minority = survey[survey['Police Service Satisfaction'] == 1]\n",
    "survey_new_minority_upsampled = resample(survey_new_minority, \n",
    "                                 replace=True,    \n",
    "                                 n_samples=survey['Police Service Satisfaction'].value_counts()[0],     \n",
    "                                 random_state=123) # reproducible results\n",
    " \n",
    "\n",
    "survey_new_upsampled = pd.concat([survey_new_minority_upsampled, survey_new_majority])\n",
    "survey_new_upsample=shuffle(survey_new_upsampled)\n",
    "survey_new_upsampled['Police Service Satisfaction'].value_counts()"
   ]
  },
  {
   "cell_type": "code",
   "execution_count": 245,
   "id": "e096b2a7",
   "metadata": {},
   "outputs": [
    {
     "data": {
      "text/html": [
       "<div>\n",
       "<style scoped>\n",
       "    .dataframe tbody tr th:only-of-type {\n",
       "        vertical-align: middle;\n",
       "    }\n",
       "\n",
       "    .dataframe tbody tr th {\n",
       "        vertical-align: top;\n",
       "    }\n",
       "\n",
       "    .dataframe thead th {\n",
       "        text-align: right;\n",
       "    }\n",
       "</style>\n",
       "<table border=\"1\" class=\"dataframe\">\n",
       "  <thead>\n",
       "    <tr style=\"text-align: right;\">\n",
       "      <th></th>\n",
       "      <th>Police Service Satisfaction</th>\n",
       "      <th>Gender</th>\n",
       "      <th>Race</th>\n",
       "    </tr>\n",
       "  </thead>\n",
       "  <tbody>\n",
       "    <tr>\n",
       "      <th>154</th>\n",
       "      <td>1</td>\n",
       "      <td>0</td>\n",
       "      <td>4</td>\n",
       "    </tr>\n",
       "    <tr>\n",
       "      <th>1208</th>\n",
       "      <td>1</td>\n",
       "      <td>1</td>\n",
       "      <td>0</td>\n",
       "    </tr>\n",
       "    <tr>\n",
       "      <th>791</th>\n",
       "      <td>1</td>\n",
       "      <td>0</td>\n",
       "      <td>0</td>\n",
       "    </tr>\n",
       "    <tr>\n",
       "      <th>895</th>\n",
       "      <td>1</td>\n",
       "      <td>1</td>\n",
       "      <td>2</td>\n",
       "    </tr>\n",
       "    <tr>\n",
       "      <th>1000</th>\n",
       "      <td>1</td>\n",
       "      <td>1</td>\n",
       "      <td>0</td>\n",
       "    </tr>\n",
       "    <tr>\n",
       "      <th>...</th>\n",
       "      <td>...</td>\n",
       "      <td>...</td>\n",
       "      <td>...</td>\n",
       "    </tr>\n",
       "    <tr>\n",
       "      <th>1298</th>\n",
       "      <td>0</td>\n",
       "      <td>1</td>\n",
       "      <td>1</td>\n",
       "    </tr>\n",
       "    <tr>\n",
       "      <th>1300</th>\n",
       "      <td>0</td>\n",
       "      <td>1</td>\n",
       "      <td>0</td>\n",
       "    </tr>\n",
       "    <tr>\n",
       "      <th>1301</th>\n",
       "      <td>0</td>\n",
       "      <td>0</td>\n",
       "      <td>0</td>\n",
       "    </tr>\n",
       "    <tr>\n",
       "      <th>1302</th>\n",
       "      <td>0</td>\n",
       "      <td>0</td>\n",
       "      <td>0</td>\n",
       "    </tr>\n",
       "    <tr>\n",
       "      <th>1303</th>\n",
       "      <td>0</td>\n",
       "      <td>0</td>\n",
       "      <td>0</td>\n",
       "    </tr>\n",
       "  </tbody>\n",
       "</table>\n",
       "<p>1798 rows × 3 columns</p>\n",
       "</div>"
      ],
      "text/plain": [
       "      Police Service Satisfaction  Gender  Race\n",
       "154                             1       0     4\n",
       "1208                            1       1     0\n",
       "791                             1       0     0\n",
       "895                             1       1     2\n",
       "1000                            1       1     0\n",
       "...                           ...     ...   ...\n",
       "1298                            0       1     1\n",
       "1300                            0       1     0\n",
       "1301                            0       0     0\n",
       "1302                            0       0     0\n",
       "1303                            0       0     0\n",
       "\n",
       "[1798 rows x 3 columns]"
      ]
     },
     "execution_count": 245,
     "metadata": {},
     "output_type": "execute_result"
    }
   ],
   "source": [
    "survey_new_upsampled"
   ]
  },
  {
   "cell_type": "code",
   "execution_count": 246,
   "id": "2c3f2bcc",
   "metadata": {
    "scrolled": true
   },
   "outputs": [],
   "source": [
    "X_train=survey_new_upsampled.drop(['Police Service Satisfaction'],axis=1)\n",
    "y_train=survey_new_upsampled.get('Police Service Satisfaction')"
   ]
  },
  {
   "cell_type": "code",
   "execution_count": 247,
   "id": "bc139ecb",
   "metadata": {},
   "outputs": [
    {
     "name": "stdout",
     "output_type": "stream",
     "text": [
      "154     1\n",
      "1208    1\n",
      "791     1\n",
      "895     1\n",
      "1000    1\n",
      "       ..\n",
      "1298    0\n",
      "1300    0\n",
      "1301    0\n",
      "1302    0\n",
      "1303    0\n",
      "Name: Police Service Satisfaction, Length: 1798, dtype: int64\n",
      "[0 0 1 0 1 1 1 1 1 0 1 1 1 1 0 0 1 0 0 1 1 1 0 0 1 0 1 1 1 1 1 1 1 0 1 0 1\n",
      " 1 1 1 1 0 1 1 1 0 0 1 0 0 0 0 1 1 1 0 0 0 1 1 1 1 1 0 1 0 0 0 0 0 1 0 0 1\n",
      " 0 0 0 1 1 1 1 0 0 0 0 1 1 1 0 1 0 0 1 0 1 1 1 1 0 0 1 0 0 0 0 0 0 0 0 0 0\n",
      " 0 0 1 0 0 0 1 1 1 1 1 1 0 0 1 0 0 1 1 0 1 0 0 0 0 1 1 0 0 0 1 1 0 0 0 0 0\n",
      " 1 0 1 0 0 1 0 0 1 0 0 1 1 0 0 1 1 0 1 1 0 1 0 0 0 0 0 1 1 0 1 1 0 1 1 1 0\n",
      " 1 0]\n"
     ]
    }
   ],
   "source": [
    "logreg = LogisticRegression()\n",
    "logreg.fit(X_train,y_train)\n",
    "y_pred=logreg.predict(X_test)\n",
    "print(y_train)\n",
    "print(y_pred)"
   ]
  },
  {
   "cell_type": "code",
   "execution_count": 248,
   "id": "2bf0dd78",
   "metadata": {},
   "outputs": [
    {
     "data": {
      "text/plain": [
       "array([[96, 86],\n",
       "       [ 0,  5]], dtype=int64)"
      ]
     },
     "execution_count": 248,
     "metadata": {},
     "output_type": "execute_result"
    }
   ],
   "source": [
    "from sklearn import metrics\n",
    "cmf_matrix = metrics.confusion_matrix(y_test, y_pred)\n",
    "cmf_matrix"
   ]
  },
  {
   "cell_type": "code",
   "execution_count": 249,
   "id": "a9ca0acf",
   "metadata": {
    "scrolled": true
   },
   "outputs": [
    {
     "data": {
      "text/html": [
       "<div>\n",
       "<style scoped>\n",
       "    .dataframe tbody tr th:only-of-type {\n",
       "        vertical-align: middle;\n",
       "    }\n",
       "\n",
       "    .dataframe tbody tr th {\n",
       "        vertical-align: top;\n",
       "    }\n",
       "\n",
       "    .dataframe thead th {\n",
       "        text-align: right;\n",
       "    }\n",
       "</style>\n",
       "<table border=\"1\" class=\"dataframe\">\n",
       "  <thead>\n",
       "    <tr style=\"text-align: right;\">\n",
       "      <th></th>\n",
       "      <th>Gender</th>\n",
       "      <th>Race</th>\n",
       "    </tr>\n",
       "  </thead>\n",
       "  <tbody>\n",
       "    <tr>\n",
       "      <th>154</th>\n",
       "      <td>0</td>\n",
       "      <td>4</td>\n",
       "    </tr>\n",
       "    <tr>\n",
       "      <th>1208</th>\n",
       "      <td>1</td>\n",
       "      <td>0</td>\n",
       "    </tr>\n",
       "    <tr>\n",
       "      <th>791</th>\n",
       "      <td>0</td>\n",
       "      <td>0</td>\n",
       "    </tr>\n",
       "    <tr>\n",
       "      <th>895</th>\n",
       "      <td>1</td>\n",
       "      <td>2</td>\n",
       "    </tr>\n",
       "    <tr>\n",
       "      <th>1000</th>\n",
       "      <td>1</td>\n",
       "      <td>0</td>\n",
       "    </tr>\n",
       "    <tr>\n",
       "      <th>...</th>\n",
       "      <td>...</td>\n",
       "      <td>...</td>\n",
       "    </tr>\n",
       "    <tr>\n",
       "      <th>1298</th>\n",
       "      <td>1</td>\n",
       "      <td>1</td>\n",
       "    </tr>\n",
       "    <tr>\n",
       "      <th>1300</th>\n",
       "      <td>1</td>\n",
       "      <td>0</td>\n",
       "    </tr>\n",
       "    <tr>\n",
       "      <th>1301</th>\n",
       "      <td>0</td>\n",
       "      <td>0</td>\n",
       "    </tr>\n",
       "    <tr>\n",
       "      <th>1302</th>\n",
       "      <td>0</td>\n",
       "      <td>0</td>\n",
       "    </tr>\n",
       "    <tr>\n",
       "      <th>1303</th>\n",
       "      <td>0</td>\n",
       "      <td>0</td>\n",
       "    </tr>\n",
       "  </tbody>\n",
       "</table>\n",
       "<p>1798 rows × 2 columns</p>\n",
       "</div>"
      ],
      "text/plain": [
       "      Gender  Race\n",
       "154        0     4\n",
       "1208       1     0\n",
       "791        0     0\n",
       "895        1     2\n",
       "1000       1     0\n",
       "...      ...   ...\n",
       "1298       1     1\n",
       "1300       1     0\n",
       "1301       0     0\n",
       "1302       0     0\n",
       "1303       0     0\n",
       "\n",
       "[1798 rows x 2 columns]"
      ]
     },
     "execution_count": 249,
     "metadata": {},
     "output_type": "execute_result"
    }
   ],
   "source": [
    "X_train"
   ]
  },
  {
   "cell_type": "code",
   "execution_count": 250,
   "id": "e260f0c2",
   "metadata": {},
   "outputs": [
    {
     "data": {
      "text/plain": [
       "154     1\n",
       "1208    1\n",
       "791     1\n",
       "895     1\n",
       "1000    1\n",
       "       ..\n",
       "1298    0\n",
       "1300    0\n",
       "1301    0\n",
       "1302    0\n",
       "1303    0\n",
       "Name: Police Service Satisfaction, Length: 1798, dtype: int64"
      ]
     },
     "execution_count": 250,
     "metadata": {},
     "output_type": "execute_result"
    }
   ],
   "source": [
    "y_train"
   ]
  },
  {
   "cell_type": "code",
   "execution_count": 251,
   "id": "541276d0",
   "metadata": {
    "scrolled": true
   },
   "outputs": [
    {
     "name": "stdout",
     "output_type": "stream",
     "text": [
      "AUC: 0.776\n",
      "AUC: 0.776\n",
      "[[0.89665485 0.18365546]] [[0.65669878 0.34330122]\n",
      " [0.65669878 0.34330122]\n",
      " [0.35084008 0.64915992]\n",
      " [0.65669878 0.34330122]\n",
      " [0.43830655 0.56169345]\n",
      " [0.2723644  0.7276356 ]\n",
      " [0.3937221  0.6062779 ]\n",
      " [0.43830655 0.56169345]\n",
      " [0.43830655 0.56169345]\n",
      " [0.65669878 0.34330122]\n",
      " [0.43830655 0.56169345]\n",
      " [0.3102386  0.6897614 ]\n",
      " [0.43830655 0.56169345]\n",
      " [0.43830655 0.56169345]\n",
      " [0.65669878 0.34330122]\n",
      " [0.65669878 0.34330122]\n",
      " [0.43830655 0.56169345]\n",
      " [0.65669878 0.34330122]\n",
      " [0.65669878 0.34330122]\n",
      " [0.3102386  0.6897614 ]\n",
      " [0.43830655 0.56169345]\n",
      " [0.3937221  0.6062779 ]\n",
      " [0.65669878 0.34330122]\n",
      " [0.65669878 0.34330122]\n",
      " [0.35084008 0.64915992]\n",
      " [0.61419057 0.38580943]\n",
      " [0.3937221  0.6062779 ]\n",
      " [0.43830655 0.56169345]\n",
      " [0.43830655 0.56169345]\n",
      " [0.43830655 0.56169345]\n",
      " [0.43830655 0.56169345]\n",
      " [0.43830655 0.56169345]\n",
      " [0.35084008 0.64915992]\n",
      " [0.65669878 0.34330122]\n",
      " [0.35084008 0.64915992]\n",
      " [0.65669878 0.34330122]\n",
      " [0.43830655 0.56169345]\n",
      " [0.43830655 0.56169345]\n",
      " [0.43830655 0.56169345]\n",
      " [0.43830655 0.56169345]\n",
      " [0.43830655 0.56169345]\n",
      " [0.61419057 0.38580943]\n",
      " [0.43830655 0.56169345]\n",
      " [0.43830655 0.56169345]\n",
      " [0.43830655 0.56169345]\n",
      " [0.61419057 0.38580943]\n",
      " [0.65669878 0.34330122]\n",
      " [0.43830655 0.56169345]\n",
      " [0.52439332 0.47560668]\n",
      " [0.61419057 0.38580943]\n",
      " [0.56986644 0.43013356]\n",
      " [0.56986644 0.43013356]\n",
      " [0.43830655 0.56169345]\n",
      " [0.43830655 0.56169345]\n",
      " [0.43830655 0.56169345]\n",
      " [0.65669878 0.34330122]\n",
      " [0.65669878 0.34330122]\n",
      " [0.52439332 0.47560668]\n",
      " [0.3937221  0.6062779 ]\n",
      " [0.43830655 0.56169345]\n",
      " [0.43830655 0.56169345]\n",
      " [0.43830655 0.56169345]\n",
      " [0.43830655 0.56169345]\n",
      " [0.65669878 0.34330122]\n",
      " [0.43830655 0.56169345]\n",
      " [0.65669878 0.34330122]\n",
      " [0.61419057 0.38580943]\n",
      " [0.65669878 0.34330122]\n",
      " [0.52439332 0.47560668]\n",
      " [0.52439332 0.47560668]\n",
      " [0.43830655 0.56169345]\n",
      " [0.65669878 0.34330122]\n",
      " [0.65669878 0.34330122]\n",
      " [0.3937221  0.6062779 ]\n",
      " [0.65669878 0.34330122]\n",
      " [0.65669878 0.34330122]\n",
      " [0.65669878 0.34330122]\n",
      " [0.43830655 0.56169345]\n",
      " [0.3102386  0.6897614 ]\n",
      " [0.43830655 0.56169345]\n",
      " [0.43830655 0.56169345]\n",
      " [0.65669878 0.34330122]\n",
      " [0.65669878 0.34330122]\n",
      " [0.52439332 0.47560668]\n",
      " [0.65669878 0.34330122]\n",
      " [0.43830655 0.56169345]\n",
      " [0.43830655 0.56169345]\n",
      " [0.43830655 0.56169345]\n",
      " [0.65669878 0.34330122]\n",
      " [0.43830655 0.56169345]\n",
      " [0.65669878 0.34330122]\n",
      " [0.65669878 0.34330122]\n",
      " [0.3102386  0.6897614 ]\n",
      " [0.65669878 0.34330122]\n",
      " [0.43830655 0.56169345]\n",
      " [0.35084008 0.64915992]\n",
      " [0.43830655 0.56169345]\n",
      " [0.3102386  0.6897614 ]\n",
      " [0.52439332 0.47560668]\n",
      " [0.65669878 0.34330122]\n",
      " [0.3937221  0.6062779 ]\n",
      " [0.65669878 0.34330122]\n",
      " [0.61419057 0.38580943]\n",
      " [0.65669878 0.34330122]\n",
      " [0.65669878 0.34330122]\n",
      " [0.61419057 0.38580943]\n",
      " [0.65669878 0.34330122]\n",
      " [0.65669878 0.34330122]\n",
      " [0.65669878 0.34330122]\n",
      " [0.65669878 0.34330122]\n",
      " [0.61419057 0.38580943]\n",
      " [0.65669878 0.34330122]\n",
      " [0.61419057 0.38580943]\n",
      " [0.43830655 0.56169345]\n",
      " [0.65669878 0.34330122]\n",
      " [0.65669878 0.34330122]\n",
      " [0.65669878 0.34330122]\n",
      " [0.43830655 0.56169345]\n",
      " [0.43830655 0.56169345]\n",
      " [0.35084008 0.64915992]\n",
      " [0.3937221  0.6062779 ]\n",
      " [0.43830655 0.56169345]\n",
      " [0.43830655 0.56169345]\n",
      " [0.65669878 0.34330122]\n",
      " [0.65669878 0.34330122]\n",
      " [0.43830655 0.56169345]\n",
      " [0.52439332 0.47560668]\n",
      " [0.65669878 0.34330122]\n",
      " [0.43830655 0.56169345]\n",
      " [0.43830655 0.56169345]\n",
      " [0.61419057 0.38580943]\n",
      " [0.35084008 0.64915992]\n",
      " [0.65669878 0.34330122]\n",
      " [0.65669878 0.34330122]\n",
      " [0.52439332 0.47560668]\n",
      " [0.65669878 0.34330122]\n",
      " [0.43830655 0.56169345]\n",
      " [0.43830655 0.56169345]\n",
      " [0.65669878 0.34330122]\n",
      " [0.65669878 0.34330122]\n",
      " [0.65669878 0.34330122]\n",
      " [0.35084008 0.64915992]\n",
      " [0.3102386  0.6897614 ]\n",
      " [0.61419057 0.38580943]\n",
      " [0.65669878 0.34330122]\n",
      " [0.65669878 0.34330122]\n",
      " [0.65669878 0.34330122]\n",
      " [0.56986644 0.43013356]\n",
      " [0.43830655 0.56169345]\n",
      " [0.65669878 0.34330122]\n",
      " [0.43830655 0.56169345]\n",
      " [0.65669878 0.34330122]\n",
      " [0.65669878 0.34330122]\n",
      " [0.43830655 0.56169345]\n",
      " [0.61419057 0.38580943]\n",
      " [0.65669878 0.34330122]\n",
      " [0.43830655 0.56169345]\n",
      " [0.52439332 0.47560668]\n",
      " [0.65669878 0.34330122]\n",
      " [0.43830655 0.56169345]\n",
      " [0.3102386  0.6897614 ]\n",
      " [0.61419057 0.38580943]\n",
      " [0.65669878 0.34330122]\n",
      " [0.43830655 0.56169345]\n",
      " [0.43830655 0.56169345]\n",
      " [0.65669878 0.34330122]\n",
      " [0.3102386  0.6897614 ]\n",
      " [0.3937221  0.6062779 ]\n",
      " [0.56986644 0.43013356]\n",
      " [0.43830655 0.56169345]\n",
      " [0.65669878 0.34330122]\n",
      " [0.61419057 0.38580943]\n",
      " [0.65669878 0.34330122]\n",
      " [0.65669878 0.34330122]\n",
      " [0.65669878 0.34330122]\n",
      " [0.43830655 0.56169345]\n",
      " [0.3102386  0.6897614 ]\n",
      " [0.61419057 0.38580943]\n",
      " [0.43830655 0.56169345]\n",
      " [0.43830655 0.56169345]\n",
      " [0.65669878 0.34330122]\n",
      " [0.3937221  0.6062779 ]\n",
      " [0.35084008 0.64915992]\n",
      " [0.43830655 0.56169345]\n",
      " [0.65669878 0.34330122]\n",
      " [0.43830655 0.56169345]\n",
      " [0.65669878 0.34330122]]\n"
     ]
    }
   ],
   "source": [
    "lr_scores_test=[]\n",
    "lr_scores_train=[]\n",
    "for this_C in (.1,1):\n",
    "    logisticRegr= LogisticRegression(C=this_C).fit(X_train, y_train)\n",
    "    lr_scores_test.append(logisticRegr.score(X_test, y_test))\n",
    "    lr_scores_train.append(logisticRegr.score(X_train, y_train))\n",
    "    pred = logisticRegr.predict(X_test)\n",
    "    predProbs = logisticRegr.predict_proba(X_test)\n",
    "    probs = predProbs[:, 1]\n",
    "    cm1 = confusion_matrix(y_test, pred)\n",
    "    auc = roc_auc_score(y_test, probs)\n",
    "    print('AUC: %.3f' % auc)\n",
    "print(logisticRegr.coef_,predProbs)"
   ]
  },
  {
   "cell_type": "code",
   "execution_count": 252,
   "id": "65fd6a06",
   "metadata": {},
   "outputs": [
    {
     "data": {
      "text/plain": [
       "[0.6245828698553949, 0.6245828698553949]"
      ]
     },
     "execution_count": 252,
     "metadata": {},
     "output_type": "execute_result"
    }
   ],
   "source": [
    " lr_scores_train"
   ]
  },
  {
   "cell_type": "code",
   "execution_count": 253,
   "id": "7647e704",
   "metadata": {},
   "outputs": [
    {
     "data": {
      "text/plain": [
       "154     1\n",
       "1208    1\n",
       "791     1\n",
       "895     1\n",
       "1000    1\n",
       "       ..\n",
       "1298    0\n",
       "1300    0\n",
       "1301    0\n",
       "1302    0\n",
       "1303    0\n",
       "Name: Police Service Satisfaction, Length: 1798, dtype: int64"
      ]
     },
     "execution_count": 253,
     "metadata": {},
     "output_type": "execute_result"
    }
   ],
   "source": [
    "y_train"
   ]
  },
  {
   "cell_type": "code",
   "execution_count": 254,
   "id": "444d0e0a",
   "metadata": {
    "scrolled": true
   },
   "outputs": [
    {
     "data": {
      "text/plain": [
       "[0.5401069518716578, 0.5401069518716578]"
      ]
     },
     "execution_count": 254,
     "metadata": {},
     "output_type": "execute_result"
    }
   ],
   "source": [
    " lr_scores_test"
   ]
  },
  {
   "cell_type": "code",
   "execution_count": 255,
   "id": "07cfa061",
   "metadata": {
    "scrolled": true
   },
   "outputs": [
    {
     "name": "stdout",
     "output_type": "stream",
     "text": [
      "Accuracy: 0.96 (+/- 0.02)\n"
     ]
    }
   ],
   "source": [
    "from sklearn.model_selection import cross_val_score\n",
    "scores = cross_val_score(logisticRegr, X,y,cv=20)\n",
    "scores\n",
    "print(\"Accuracy: %0.2f (+/- %0.2f)\" % (scores.mean(), scores.std() * 2))"
   ]
  },
  {
   "cell_type": "code",
   "execution_count": 256,
   "id": "5acdde40",
   "metadata": {},
   "outputs": [
    {
     "name": "stdout",
     "output_type": "stream",
     "text": [
      "Accuracy: 0.96 (+/- 0.02)\n"
     ]
    }
   ],
   "source": [
    "from sklearn.model_selection import cross_validate\n",
    "cv_results = cross_validate(logisticRegr, X, y, cv=5)\n",
    "sorted(cv_results.keys())\n",
    "['fit_time', 'score_time', 'test_score']\n",
    "cv_results['test_score']\n",
    "print(\"Accuracy: %0.2f (+/- %0.2f)\" % (scores.mean(), scores.std() * 2))"
   ]
  },
  {
   "cell_type": "code",
   "execution_count": 257,
   "id": "49ac44eb",
   "metadata": {
    "scrolled": false
   },
   "outputs": [
    {
     "name": "stdout",
     "output_type": "stream",
     "text": [
      "Accuracy: 0.54\n",
      "Precision: 0.05\n",
      "Recall: 1.00\n",
      "F1: 0.10\n",
      "0.5401069518716578\n"
     ]
    }
   ],
   "source": [
    "from sklearn.metrics import accuracy_score, precision_score, recall_score, f1_score\n",
    "# Accuracy = TP + TN / (TP + TN + FP + FN)\n",
    "# Precision = TP / (TP + FP)\n",
    "# Recall = TP / (TP + FN)  Also known as sensitivity, or True Positive Rate\n",
    "# F1 = 2 * Precision * Recall / (Precision + Recall) \n",
    "print('Accuracy: {:.2f}'.format(accuracy_score(y_test,  pred )))\n",
    "print('Precision: {:.2f}'.format(precision_score(y_test,  y_pred)))\n",
    "print('Recall: {:.2f}'.format(recall_score(y_test,  y_pred)))\n",
    "print('F1: {:.2f}'.format(f1_score(y_test, y_pred)))\n",
    "score = logisticRegr.score(X_test, y_test)\n",
    "print(score)"
   ]
  },
  {
   "cell_type": "code",
   "execution_count": 258,
   "id": "fb8a69a0",
   "metadata": {},
   "outputs": [
    {
     "data": {
      "text/plain": [
       "<AxesSubplot:>"
      ]
     },
     "execution_count": 258,
     "metadata": {},
     "output_type": "execute_result"
    },
    {
     "data": {
      "image/png": "[encoded data removed]",
      "text/plain": [
       "<Figure size 360x360 with 1 Axes>"
      ]
     },
     "metadata": {
      "needs_background": "light"
     },
     "output_type": "display_data"
    }
   ],
   "source": [
    "count = survey_new_upsampled['Police Service Satisfaction'].value_counts() \n",
    "\n",
    "fig = plt.figure(figsize=(5,5)) # define plot area\n",
    "ax = fig.gca() # define axis    \n",
    "\n",
    "count.plot.bar()"
   ]
  },
  {
   "cell_type": "code",
   "execution_count": 259,
   "id": "6da7ea20",
   "metadata": {},
   "outputs": [
    {
     "data": {
      "text/html": [
       "<div>\n",
       "<style scoped>\n",
       "    .dataframe tbody tr th:only-of-type {\n",
       "        vertical-align: middle;\n",
       "    }\n",
       "\n",
       "    .dataframe tbody tr th {\n",
       "        vertical-align: top;\n",
       "    }\n",
       "\n",
       "    .dataframe thead th {\n",
       "        text-align: right;\n",
       "    }\n",
       "</style>\n",
       "<table border=\"1\" class=\"dataframe\">\n",
       "  <thead>\n",
       "    <tr style=\"text-align: right;\">\n",
       "      <th></th>\n",
       "      <th>Police Service Satisfaction</th>\n",
       "      <th>Gender</th>\n",
       "      <th>Race</th>\n",
       "    </tr>\n",
       "  </thead>\n",
       "  <tbody>\n",
       "    <tr>\n",
       "      <th>Police Service Satisfaction</th>\n",
       "      <td>1.000000</td>\n",
       "      <td>0.216176</td>\n",
       "      <td>0.091646</td>\n",
       "    </tr>\n",
       "    <tr>\n",
       "      <th>Gender</th>\n",
       "      <td>0.216176</td>\n",
       "      <td>1.000000</td>\n",
       "      <td>-0.003170</td>\n",
       "    </tr>\n",
       "    <tr>\n",
       "      <th>Race</th>\n",
       "      <td>0.091646</td>\n",
       "      <td>-0.003170</td>\n",
       "      <td>1.000000</td>\n",
       "    </tr>\n",
       "  </tbody>\n",
       "</table>\n",
       "</div>"
      ],
      "text/plain": [
       "                             Police Service Satisfaction    Gender      Race\n",
       "Police Service Satisfaction                     1.000000  0.216176  0.091646\n",
       "Gender                                          0.216176  1.000000 -0.003170\n",
       "Race                                            0.091646 -0.003170  1.000000"
      ]
     },
     "execution_count": 259,
     "metadata": {},
     "output_type": "execute_result"
    }
   ],
   "source": [
    "survey_new_upsampled.corr()"
   ]
  },
  {
   "cell_type": "code",
   "execution_count": 260,
   "id": "8891da97",
   "metadata": {},
   "outputs": [
    {
     "data": {
      "text/plain": [
       "<AxesSubplot:>"
      ]
     },
     "execution_count": 260,
     "metadata": {},
     "output_type": "execute_result"
    },
    {
     "data": {
      "image/png": "[encoded data removed]",
      "text/plain": [
       "<Figure size 432x288 with 2 Axes>"
      ]
     },
     "metadata": {
      "needs_background": "light"
     },
     "output_type": "display_data"
    }
   ],
   "source": [
    "sns.heatmap(survey_new_upsampled.corr(), annot = True)"
   ]
  },
  {
   "cell_type": "code",
   "execution_count": null,
   "id": "35df7e3b",
   "metadata": {
    "scrolled": true
   },
   "outputs": [],
   "source": []
  },
  {
   "cell_type": "code",
   "execution_count": 261,
   "id": "b2b78b62",
   "metadata": {},
   "outputs": [],
   "source": [
    "from sklearn.metrics import confusion_matrix\n",
    "lr_scores_test = []\n",
    "lr_scores_train = []\n",
    "for this_C in (.1,2):\n",
    "    logisticRegr = LogisticRegression(C = this_C).fit(X_train, y_train)\n",
    "    lr_scores_test.append(logisticRegr.score(X_test, y_test))\n",
    "    lr_scores_test.append(logisticRegr.score(X_train, y_train))\n",
    "    pred = logisticRegr.predict(X_test)\n",
    "    predProbs - logisticRegr.predict_proba(X_test)\n",
    "    probs = predProbs[:,1]\n",
    "    cm1 = confusion_matrix(y_test, pred)\n",
    "    cm1"
   ]
  },
  {
   "cell_type": "code",
   "execution_count": 262,
   "id": "35bdf67e",
   "metadata": {
    "scrolled": true
   },
   "outputs": [
    {
     "data": {
      "text/plain": [
       "array([[96, 86],\n",
       "       [ 0,  5]], dtype=int64)"
      ]
     },
     "execution_count": 262,
     "metadata": {},
     "output_type": "execute_result"
    }
   ],
   "source": [
    "cm1\n"
   ]
  }
 ],
 "metadata": {
  "kernelspec": {
   "display_name": "Python 3",
   "language": "python",
   "name": "python3"
  },
  "language_info": {
   "codemirror_mode": {
    "name": "ipython",
    "version": 3
   },
   "file_extension": ".py",
   "mimetype": "text/x-python",
   "name": "python",
   "nbconvert_exporter": "python",
   "pygments_lexer": "ipython3",
   "version": "3.8.8"
  }
 },
 "nbformat": 4,
 "nbformat_minor": 5
}
